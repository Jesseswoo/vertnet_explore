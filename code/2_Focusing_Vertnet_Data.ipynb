{
 "cells": [
  {
   "cell_type": "code",
   "execution_count": 10,
   "metadata": {},
   "outputs": [
    {
     "data": {
      "text/html": [
       "<script>requirejs.config({paths: { 'plotly': ['https://cdn.plot.ly/plotly-latest.min']},});if(!window.Plotly) {{require(['plotly'],function(plotly) {window.Plotly=plotly;});}}</script>"
      ],
      "text/vnd.plotly.v1+html": [
       "<script>requirejs.config({paths: { 'plotly': ['https://cdn.plot.ly/plotly-latest.min']},});if(!window.Plotly) {{require(['plotly'],function(plotly) {window.Plotly=plotly;});}}</script>"
      ]
     },
     "metadata": {},
     "output_type": "display_data"
    },
    {
     "data": {
      "text/html": [
       "<style> .output {flex-direction: row;} </style>"
      ],
      "text/plain": [
       "<IPython.core.display.HTML object>"
      ]
     },
     "execution_count": 10,
     "metadata": {},
     "output_type": "execute_result"
    }
   ],
   "source": [
    "from datascience import *\n",
    "import pandas as pd\n",
    "import plotly.plotly as py\n",
    "import numpy as np\n",
    "import matplotlib.pyplot as plt\n",
    "%matplotlib inline\n",
    "\n",
    "from plotly.offline import download_plotlyjs, init_notebook_mode, plot, iplot\n",
    "init_notebook_mode(connected=True)\n",
    "\n",
    "from IPython.display import display, HTML\n",
    "CSS = \"\"\" .output {flex-direction: row;} \"\"\"\n",
    "HTML('<style>{}</style>'.format(CSS))"
   ]
  },
  {
   "cell_type": "markdown",
   "metadata": {},
   "source": [
    "As we saw in the previous section, it seems to be better to be more specific with search queries. To get a better dataset, I repeated the same process as in the previous section, except I used 'Squamata', an order in the Reptilia class containing snakes and lizards as my search query. \n",
    "\n",
    "- **Ciera**: Include reasoning about why you picked Squamata, like why these species are interesting to you. Is it because this is the largest group?"
   ]
  },
  {
   "cell_type": "markdown",
   "metadata": {},
   "source": [
    "The dataset I created can be downloaded from [here](../data/Squamata_11-14-4da5a9456e334899ac94e513366e22ac.txt)"
   ]
  },
  {
   "cell_type": "code",
   "execution_count": 3,
   "metadata": {},
   "outputs": [],
   "source": [
    "Squamata=Table.read_table('../data/Squamata_11-14-4da5a9456e334899ac94e513366e22ac.txt', low_memory=False)"
   ]
  },
  {
   "cell_type": "code",
   "execution_count": 4,
   "metadata": {},
   "outputs": [],
   "source": [
    "Dates_collected=Squamata.select(\"eventdate\", \"year\", \"month\", 'day')"
   ]
  },
  {
   "cell_type": "code",
   "execution_count": 5,
   "metadata": {},
   "outputs": [
    {
     "data": {
      "text/html": [
       "<table border=\"1\" class=\"dataframe\">\n",
       "    <thead>\n",
       "        <tr>\n",
       "            <th>year</th> <th>count</th>\n",
       "        </tr>\n",
       "    </thead>\n",
       "    <tbody>\n",
       "        <tr>\n",
       "            <td>199 </td> <td>1    </td>\n",
       "        </tr>\n",
       "        <tr>\n",
       "            <td>969 </td> <td>2    </td>\n",
       "        </tr>\n",
       "        <tr>\n",
       "            <td>1084</td> <td>1    </td>\n",
       "        </tr>\n",
       "        <tr>\n",
       "            <td>1197</td> <td>7    </td>\n",
       "        </tr>\n",
       "        <tr>\n",
       "            <td>1700</td> <td>283  </td>\n",
       "        </tr>\n",
       "        <tr>\n",
       "            <td>1801</td> <td>2    </td>\n",
       "        </tr>\n",
       "        <tr>\n",
       "            <td>1804</td> <td>2    </td>\n",
       "        </tr>\n",
       "        <tr>\n",
       "            <td>1811</td> <td>1    </td>\n",
       "        </tr>\n",
       "        <tr>\n",
       "            <td>1812</td> <td>1    </td>\n",
       "        </tr>\n",
       "        <tr>\n",
       "            <td>1816</td> <td>1    </td>\n",
       "        </tr>\n",
       "    </tbody>\n",
       "</table>\n",
       "<p>... (171 rows omitted)</p>"
      ],
      "text/plain": [
       "year | count\n",
       "199  | 1\n",
       "969  | 2\n",
       "1084 | 1\n",
       "1197 | 7\n",
       "1700 | 283\n",
       "1801 | 2\n",
       "1804 | 2\n",
       "1811 | 1\n",
       "1812 | 1\n",
       "1816 | 1\n",
       "... (171 rows omitted)"
      ]
     },
     "execution_count": 5,
     "metadata": {},
     "output_type": "execute_result"
    }
   ],
   "source": [
    "Dates_collected.group('year').sort('year')"
   ]
  },
  {
   "cell_type": "markdown",
   "metadata": {},
   "source": [
    "It seems there is an error. It is unlikely that there would be samples from before 1200. Since there are only a few samples in this range, I've chosen to exclude them from the graph below. "
   ]
  },
  {
   "cell_type": "code",
   "execution_count": 7,
   "metadata": {},
   "outputs": [
    {
     "data": {
      "image/png": "[encoded data removed]",
      "text/plain": [
       "<Figure size 432x288 with 1 Axes>"
      ]
     },
     "metadata": {},
     "output_type": "display_data"
    },
    {
     "data": {
      "image/png": "[encoded data removed]",
      "text/plain": [
       "<Figure size 432x288 with 1 Axes>"
      ]
     },
     "metadata": {},
     "output_type": "display_data"
    }
   ],
   "source": [
    "Dates_collected.group('year').where('year', are.not_below(1200)).plot(\"year\")\n",
    "Dates_collected.group('month').plot(\"month\")"
   ]
  },
  {
   "cell_type": "markdown",
   "metadata": {},
   "source": [
    "Based on the graphs, it seems like the majority of the samples seem to have been collected in the mid 1900's and the samples were most commonly collected during the mid year months. This is  likely due to the warmer weather of mid year months and correlates with the [brumation](https://en.wikipedia.org/wiki/Dormancy#Brumation) process of reptiles, where reptiles undergo a hibertnation like state during the cold weather. "
   ]
  },
  {
   "cell_type": "markdown",
   "metadata": {},
   "source": [
    "## Mapping Squamata Specimens\n",
    "\n",
    "- Ciera: **Introduce this section. What are you trying to do here?**"
   ]
  },
  {
   "cell_type": "code",
   "execution_count": 11,
   "metadata": {},
   "outputs": [
    {
     "data": {
      "text/html": [
       "<table border=\"1\" class=\"dataframe\">\n",
       "    <thead>\n",
       "        <tr>\n",
       "            <th>country</th> <th>stateprovince</th> <th>decimallatitude</th> <th>decimallongitude</th>\n",
       "        </tr>\n",
       "    </thead>\n",
       "    <tbody>\n",
       "        <tr>\n",
       "            <td>Australia    </td> <td>New South Wales</td> <td>-33.75         </td> <td>150.7           </td>\n",
       "        </tr>\n",
       "        <tr>\n",
       "            <td>Australia    </td> <td>New South Wales</td> <td>-32.2494       </td> <td>151.506         </td>\n",
       "        </tr>\n",
       "        <tr>\n",
       "            <td>Australia    </td> <td>Queensland     </td> <td>-19.4          </td> <td>146.733         </td>\n",
       "        </tr>\n",
       "        <tr>\n",
       "            <td>New Caledonia</td> <td>nan            </td> <td>-21.133        </td> <td>165.316         </td>\n",
       "        </tr>\n",
       "        <tr>\n",
       "            <td>Australia    </td> <td>Queensland     </td> <td>-17.15         </td> <td>144.516         </td>\n",
       "        </tr>\n",
       "        <tr>\n",
       "            <td>Australia    </td> <td>Queensland     </td> <td>-14.9          </td> <td>141.616         </td>\n",
       "        </tr>\n",
       "        <tr>\n",
       "            <td>Australia    </td> <td>South Australia</td> <td>-34.45         </td> <td>138.85          </td>\n",
       "        </tr>\n",
       "        <tr>\n",
       "            <td>Australia    </td> <td>Queensland     </td> <td>-9.733         </td> <td>143.416         </td>\n",
       "        </tr>\n",
       "        <tr>\n",
       "            <td>New Caledonia</td> <td>nan            </td> <td>-21.4811       </td> <td>165.614         </td>\n",
       "        </tr>\n",
       "        <tr>\n",
       "            <td>Australia    </td> <td>New South Wales</td> <td>-33.216        </td> <td>151.566         </td>\n",
       "        </tr>\n",
       "    </tbody>\n",
       "</table>\n",
       "<p>... (97990 rows omitted)</p>"
      ],
      "text/plain": [
       "country       | stateprovince   | decimallatitude | decimallongitude\n",
       "Australia     | New South Wales | -33.75          | 150.7\n",
       "Australia     | New South Wales | -32.2494        | 151.506\n",
       "Australia     | Queensland      | -19.4           | 146.733\n",
       "New Caledonia | nan             | -21.133         | 165.316\n",
       "Australia     | Queensland      | -17.15          | 144.516\n",
       "Australia     | Queensland      | -14.9           | 141.616\n",
       "Australia     | South Australia | -34.45          | 138.85\n",
       "Australia     | Queensland      | -9.733          | 143.416\n",
       "New Caledonia | nan             | -21.4811        | 165.614\n",
       "Australia     | New South Wales | -33.216         | 151.566\n",
       "... (97990 rows omitted)"
      ]
     },
     "execution_count": 11,
     "metadata": {},
     "output_type": "execute_result"
    }
   ],
   "source": [
    "Squamata.select(\"country\", \"stateprovince\", \"decimallatitude\", \"decimallongitude\")"
   ]
  },
  {
   "cell_type": "code",
   "execution_count": 6,
   "metadata": {},
   "outputs": [],
   "source": [
    "Squamata_map=Squamata.select(\"country\", \"stateprovince\", \"decimallatitude\", \"decimallongitude\"\n",
    "                            ).group(range(4)).where('count', are.below(20))\n",
    "#Note: I limited samples to samples below 20 because I am having trouble importing sklearn to scale the data. \n",
    "#If I included the full unscaled data, the scale in the map would look like a mess"
   ]
  },
  {
   "cell_type": "code",
   "execution_count": 7,
   "metadata": {},
   "outputs": [],
   "source": [
    "Squamata_df_full = pd.DataFrame({'Latitude':Squamata_map.select(\"decimallatitude\").column(0), \n",
    "                           \"Longitude\":Squamata_map.select(\"decimallongitude\").column(0),\n",
    "                         \"Count\":Squamata_map.select(\"count\").column(0),\n",
    "                              \"Country\":Squamata_map.select(\"country\").column(0)})"
   ]
  },
  {
   "cell_type": "code",
   "execution_count": 11,
   "metadata": {
    "scrolled": true
   },
   "outputs": [
    {
     "data": {
      "text/html": [
       "<iframe id=\"igraph\" scrolling=\"no\" style=\"border:none;\" seamless=\"seamless\" src=\"https://plot.ly/~jessesw/140.embed\" height=\"525px\" width=\"100%\"></iframe>"
      ],
      "text/plain": [
       "<plotly.tools.PlotlyDisplay object>"
      ]
     },
     "execution_count": 11,
     "metadata": {},
     "output_type": "execute_result"
    }
   ],
   "source": [
    "scl = [0,\"rgb(150,0,90)\"],[.125,\"rgb(0, 0, 200)\"],[.25,\"rgb(0, 25, 255)\"], [.375,\"rgb(0, 152, 255)\"],[.5,\"rgb(44, 255, 150)\"],[.625,\"rgb(151, 255, 0)\"], [.75,\"rgb(255, 234, 0)\"],[.875,\"rgb(255, 111, 0)\"], [1,\"rgb(255, 0, 0)\"]\n",
    "\n",
    "data = [ dict(\n",
    "    lat = Squamata_df_full['Latitude'],\n",
    "    lon = Squamata_df_full['Longitude'],\n",
    "    text = Squamata_df_full['Count'],\n",
    "    marker = dict(\n",
    "        color = Squamata_df_full['Count'],\n",
    "        colorscale = scl,\n",
    "        reversescale = True,\n",
    "        opacity = 0.7,\n",
    "        size = 6,\n",
    "        colorbar = dict(\n",
    "            thickness = 10,\n",
    "            titleside = \"right\",\n",
    "            outlinecolor = \"rgba(68, 68, 68, 0)\",\n",
    "            ticks = \"outside\",\n",
    "            ticklen = 3,\n",
    "            dtick = 1\n",
    "        ),\n",
    "    ),\n",
    "    type = 'scattergeo'\n",
    ") ]\n",
    "\n",
    "layout = dict(\n",
    "    geo = dict(\n",
    "        scope = 'world',\n",
    "        showland = True,\n",
    "        landcolor = \"rgb(212, 212, 212)\",\n",
    "        subunitcolor = \"rgb(255, 255, 255)\",\n",
    "        countrycolor = \"rgb(255, 255, 255)\",\n",
    "        showlakes = True,\n",
    "        lakecolor = \"rgb(255, 255, 255)\",\n",
    "        showsubunits = True,\n",
    "        showcountries = True,\n",
    "        resolution = 110,\n",
    "        projection = dict(\n",
    "            type = 'mercator',\n",
    "            rotation = dict(\n",
    "                lon = -100\n",
    "            )\n",
    "        ),\n",
    "        lonaxis = dict(\n",
    "            showgrid = True,\n",
    "            gridwidth = 0.5,\n",
    "            range= [ -140.0, -55.0 ],\n",
    "            dtick = 5\n",
    "        ),\n",
    "        lataxis = dict (\n",
    "            showgrid = True,\n",
    "            gridwidth = 0.5,\n",
    "            range= [ 20.0, 60.0 ],\n",
    "            dtick = 5\n",
    "        )\n",
    "    ),\n",
    "    title = 'Squamata',\n",
    ")\n",
    "\n",
    "fig = { 'data':data, 'layout':layout }\n",
    "py.iplot(fig, filename='Squamata')"
   ]
  },
  {
   "cell_type": "markdown",
   "metadata": {},
   "source": [
    "<img src=\"../data/Squamata_map.png\">"
   ]
  },
  {
   "cell_type": "markdown",
   "metadata": {},
   "source": [
    "- **Ciera**: Awesome Map! You should introduce what the map means a little more. What does the color mean? Some pointers on map visualization. 1. Might be good to apply opacity down to .4 or so so you can see more of the dots. 2. Maybe to apply a better palette, like [viridis](hhttps://stats.stackexchange.com/questions/223315/why-use-colormap-viridis-over-jet). Palettes like viridis are helpful because the colors sequence is uniform perceptually and better for people who are color blind. I see that you are having trouble importing scale. We should sit down and figure this out.\n",
    "\n",
    "Upon first glance of the map, we can seel the majority of the samples seem to be concencentrated near the lower end of the Americas and Australia. If I were to make a hypothesis, I believe this may be due to 1. climate and 2. sampling bias. Reptiles are ectotherms so they depend on their environment to regulate their internal temperature. Therefore the cold weather in the north may not be suitable for them. You can clearing see sampling bias along the North America Mexico border. It is unlikely that Squamata recognize this border, but rather that American scientists stop collecting at the Mexican border. Sampling bias can greatly alter how we perceive biodiversity patterns and animal range data. \n",
    "\n",
    "We can also see that there are a few points that are located in the ocean. Based on the map alone, it is not possible to determine if the samples are located on an island that isn't pictured on the map or if the samples taken were the result of an error in the data. "
   ]
  },
  {
   "cell_type": "markdown",
   "metadata": {},
   "source": [
    "## Displaying Family Data with a Sankey Map\n",
    "\n",
    "- **Ciera**: Introduce Sankey Maps.  They are so coo, that I think it would be interesting to talking about them a bit more\n",
    "\n",
    "Now lets examine how the taxonomy is distributed in this dataset. Lets first isolate all the relevent taxonomic data.\n",
    "\n",
    "- **Ciera**: Describe what you are doing  a bit more at each step"
   ]
  },
  {
   "cell_type": "code",
   "execution_count": 13,
   "metadata": {
    "collapsed": true,
    "scrolled": true
   },
   "outputs": [],
   "source": [
    "Taxonomy=Squamata.where('order', 'Squamata').select(\"scientificname\", \"kingdom\", \"phylum\", \"class\", \"order\", \"family\", \"genus\").group(range(1,7))"
   ]
  },
  {
   "cell_type": "code",
   "execution_count": 14,
   "metadata": {},
   "outputs": [
    {
     "data": {
      "text/html": [
       "<table border=\"1\" class=\"dataframe\">\n",
       "    <thead>\n",
       "        <tr>\n",
       "            <th>kingdom</th> <th>phylum</th> <th>class</th> <th>order</th> <th>family</th> <th>genus</th> <th>count</th>\n",
       "        </tr>\n",
       "    </thead>\n",
       "    <tbody>\n",
       "        <tr>\n",
       "            <td>Animalia</td> <td>Chordata</td> <td>Reptilia</td> <td>Squamata</td> <td>Iguanidae      </td> <td>Anolis      </td> <td>4571 </td>\n",
       "        </tr>\n",
       "        <tr>\n",
       "            <td>Animalia</td> <td>Chordata</td> <td>Reptilia</td> <td>Squamata</td> <td>Phrynosomatidae</td> <td>Sceloporus  </td> <td>4496 </td>\n",
       "        </tr>\n",
       "        <tr>\n",
       "            <td>Animalia</td> <td>Chordata</td> <td>Reptilia</td> <td>Squamata</td> <td>Scincidae      </td> <td>Carlia      </td> <td>4294 </td>\n",
       "        </tr>\n",
       "        <tr>\n",
       "            <td>Animalia</td> <td>Chordata</td> <td>Reptilia</td> <td>Squamata</td> <td>Phrynosomatidae</td> <td>Uta         </td> <td>3646 </td>\n",
       "        </tr>\n",
       "        <tr>\n",
       "            <td>Animalia</td> <td>Chordata</td> <td>Reptilia</td> <td>Squamata</td> <td>Scincidae      </td> <td>Ctenotus    </td> <td>3221 </td>\n",
       "        </tr>\n",
       "        <tr>\n",
       "            <td>Animalia</td> <td>Chordata</td> <td>Reptilia</td> <td>Squamata</td> <td>Scincidae      </td> <td>Lampropholis</td> <td>3079 </td>\n",
       "        </tr>\n",
       "        <tr>\n",
       "            <td>Animalia</td> <td>Chordata</td> <td>Reptilia</td> <td>Squamata</td> <td>Teiidae        </td> <td>Aspidoscelis</td> <td>2776 </td>\n",
       "        </tr>\n",
       "        <tr>\n",
       "            <td>Animalia</td> <td>Chordata</td> <td>Reptilia</td> <td>Squamata</td> <td>Scincidae      </td> <td>Emoia       </td> <td>2090 </td>\n",
       "        </tr>\n",
       "        <tr>\n",
       "            <td>Animalia</td> <td>Chordata</td> <td>Reptilia</td> <td>Squamata</td> <td>Scincidae      </td> <td>Lerista     </td> <td>1904 </td>\n",
       "        </tr>\n",
       "        <tr>\n",
       "            <td>Animalia</td> <td>Chordata</td> <td>Reptilia</td> <td>Squamata</td> <td>Colubridae     </td> <td>Thamnophis  </td> <td>1743 </td>\n",
       "        </tr>\n",
       "    </tbody>\n",
       "</table>\n",
       "<p>... (622 rows omitted)</p>"
      ],
      "text/plain": [
       "kingdom  | phylum   | class    | order    | family          | genus        | count\n",
       "Animalia | Chordata | Reptilia | Squamata | Iguanidae       | Anolis       | 4571\n",
       "Animalia | Chordata | Reptilia | Squamata | Phrynosomatidae | Sceloporus   | 4496\n",
       "Animalia | Chordata | Reptilia | Squamata | Scincidae       | Carlia       | 4294\n",
       "Animalia | Chordata | Reptilia | Squamata | Phrynosomatidae | Uta          | 3646\n",
       "Animalia | Chordata | Reptilia | Squamata | Scincidae       | Ctenotus     | 3221\n",
       "Animalia | Chordata | Reptilia | Squamata | Scincidae       | Lampropholis | 3079\n",
       "Animalia | Chordata | Reptilia | Squamata | Teiidae         | Aspidoscelis | 2776\n",
       "Animalia | Chordata | Reptilia | Squamata | Scincidae       | Emoia        | 2090\n",
       "Animalia | Chordata | Reptilia | Squamata | Scincidae       | Lerista      | 1904\n",
       "Animalia | Chordata | Reptilia | Squamata | Colubridae      | Thamnophis   | 1743\n",
       "... (622 rows omitted)"
      ]
     },
     "execution_count": 14,
     "metadata": {},
     "output_type": "execute_result"
    }
   ],
   "source": [
    "Taxonomy.sort('count', descending=True)"
   ]
  },
  {
   "cell_type": "code",
   "execution_count": 25,
   "metadata": {
    "collapsed": true
   },
   "outputs": [],
   "source": [
    "family_genus=Squamata.where('order', 'Squamata').select(\"scientificname\", \"kingdom\", \"phylum\", \"class\", \"order\", \"family\", \"genus\").group([5,6])"
   ]
  },
  {
   "cell_type": "code",
   "execution_count": 26,
   "metadata": {
    "collapsed": true
   },
   "outputs": [],
   "source": [
    "def return_index(source, target):\n",
    "    source_index=[]\n",
    "    target_index=[]\n",
    "    index=0\n",
    "    for name_s in source:\n",
    "        source_index+=[source.index(name_s)]\n",
    "        target_index+=[index]\n",
    "        index+=1\n",
    "    return source_index, target_index"
   ]
  },
  {
   "cell_type": "code",
   "execution_count": 27,
   "metadata": {
    "collapsed": true,
    "scrolled": true
   },
   "outputs": [],
   "source": [
    "order1=list(Taxonomy.group(['order', 'family']).column(0))\n",
    "family1=list(Taxonomy.group(['order', 'family']).column(1))"
   ]
  },
  {
   "cell_type": "code",
   "execution_count": 28,
   "metadata": {
    "collapsed": true
   },
   "outputs": [],
   "source": [
    "family2=list(Taxonomy.group(['family', 'genus']).group(0).column(0))\n",
    "genus2= list(Taxonomy.group(['family', 'genus']).column(1))"
   ]
  },
  {
   "cell_type": "code",
   "execution_count": 29,
   "metadata": {
    "collapsed": true
   },
   "outputs": [],
   "source": [
    "source_index_list=return_index(order1, family1)[0]\n",
    "target_index_list=[i + 1 for i in return_index(order1, family1)[1]]\n",
    "count_list=list(Taxonomy.group(['order', 'family']).column(2))\n",
    "colors=[\"blue\"]*len(list(Taxonomy.group(['order', 'family']).column(0)))\n",
    "source_list=['Squamata']+family1"
   ]
  },
  {
   "cell_type": "code",
   "execution_count": 31,
   "metadata": {
    "scrolled": true
   },
   "outputs": [
    {
     "name": "stdout",
     "output_type": "stream",
     "text": [
      "Aw, snap! We didn't get a username with your request.\n",
      "\n",
      "Don't have an account? https://plot.ly/api_signup\n",
      "\n",
      "Questions? accounts@plot.ly\n"
     ]
    },
    {
     "ename": "PlotlyError",
     "evalue": "Because you didn't supply a 'file_id' in the call, we're assuming you're trying to snag a figure from a url. You supplied the url, '', we expected it to start with 'https://plot.ly'.\nRun help on this function for more information.",
     "output_type": "error",
     "traceback": [
      "\u001b[0;31m---------------------------------------------------------------------------\u001b[0m",
      "\u001b[0;31mPlotlyError\u001b[0m                               Traceback (most recent call last)",
      "\u001b[0;32m<ipython-input-31-848ca7cc3dc3>\u001b[0m in \u001b[0;36m<module>\u001b[0;34m()\u001b[0m\n\u001b[1;32m     26\u001b[0m \u001b[0;34m\u001b[0m\u001b[0m\n\u001b[1;32m     27\u001b[0m \u001b[0mfig\u001b[0m \u001b[0;34m=\u001b[0m \u001b[0mdict\u001b[0m\u001b[0;34m(\u001b[0m\u001b[0mdata\u001b[0m\u001b[0;34m=\u001b[0m\u001b[0;34m[\u001b[0m\u001b[0mdata\u001b[0m\u001b[0;34m]\u001b[0m\u001b[0;34m,\u001b[0m \u001b[0mlayout\u001b[0m\u001b[0;34m=\u001b[0m\u001b[0mlayout\u001b[0m\u001b[0;34m)\u001b[0m\u001b[0;34m\u001b[0m\u001b[0m\n\u001b[0;32m---> 28\u001b[0;31m \u001b[0mpy\u001b[0m\u001b[0;34m.\u001b[0m\u001b[0miplot\u001b[0m\u001b[0;34m(\u001b[0m\u001b[0mfig\u001b[0m\u001b[0;34m,\u001b[0m \u001b[0mvalidate\u001b[0m\u001b[0;34m=\u001b[0m\u001b[0;32mFalse\u001b[0m\u001b[0;34m)\u001b[0m\u001b[0;34m\u001b[0m\u001b[0m\n\u001b[0m",
      "\u001b[0;32m//anaconda/envs/ipykernel_py3/lib/python3.6/site-packages/plotly/plotly/plotly.py\u001b[0m in \u001b[0;36miplot\u001b[0;34m(figure_or_data, **plot_options)\u001b[0m\n\u001b[1;32m    168\u001b[0m         \u001b[0membed_options\u001b[0m\u001b[0;34m[\u001b[0m\u001b[0;34m'height'\u001b[0m\u001b[0;34m]\u001b[0m \u001b[0;34m=\u001b[0m \u001b[0mstr\u001b[0m\u001b[0;34m(\u001b[0m\u001b[0membed_options\u001b[0m\u001b[0;34m[\u001b[0m\u001b[0;34m'height'\u001b[0m\u001b[0;34m]\u001b[0m\u001b[0;34m)\u001b[0m \u001b[0;34m+\u001b[0m \u001b[0;34m'px'\u001b[0m\u001b[0;34m\u001b[0m\u001b[0m\n\u001b[1;32m    169\u001b[0m \u001b[0;34m\u001b[0m\u001b[0m\n\u001b[0;32m--> 170\u001b[0;31m     \u001b[0;32mreturn\u001b[0m \u001b[0mtools\u001b[0m\u001b[0;34m.\u001b[0m\u001b[0membed\u001b[0m\u001b[0;34m(\u001b[0m\u001b[0murl\u001b[0m\u001b[0;34m,\u001b[0m \u001b[0;34m**\u001b[0m\u001b[0membed_options\u001b[0m\u001b[0;34m)\u001b[0m\u001b[0;34m\u001b[0m\u001b[0m\n\u001b[0m\u001b[1;32m    171\u001b[0m \u001b[0;34m\u001b[0m\u001b[0m\n\u001b[1;32m    172\u001b[0m \u001b[0;34m\u001b[0m\u001b[0m\n",
      "\u001b[0;32m//anaconda/envs/ipykernel_py3/lib/python3.6/site-packages/plotly/tools.py\u001b[0m in \u001b[0;36membed\u001b[0;34m(file_owner_or_url, file_id, width, height)\u001b[0m\n\u001b[1;32m    399\u001b[0m         \u001b[0;32melse\u001b[0m\u001b[0;34m:\u001b[0m\u001b[0;34m\u001b[0m\u001b[0m\n\u001b[1;32m    400\u001b[0m             \u001b[0murl\u001b[0m \u001b[0;34m=\u001b[0m \u001b[0mfile_owner_or_url\u001b[0m\u001b[0;34m\u001b[0m\u001b[0m\n\u001b[0;32m--> 401\u001b[0;31m         \u001b[0;32mreturn\u001b[0m \u001b[0mPlotlyDisplay\u001b[0m\u001b[0;34m(\u001b[0m\u001b[0murl\u001b[0m\u001b[0;34m,\u001b[0m \u001b[0mwidth\u001b[0m\u001b[0;34m,\u001b[0m \u001b[0mheight\u001b[0m\u001b[0;34m)\u001b[0m\u001b[0;34m\u001b[0m\u001b[0m\n\u001b[0m\u001b[1;32m    402\u001b[0m     \u001b[0;32melse\u001b[0m\u001b[0;34m:\u001b[0m\u001b[0;34m\u001b[0m\u001b[0m\n\u001b[1;32m    403\u001b[0m         if (get_config_defaults()['plotly_domain']\n",
      "\u001b[0;32m//anaconda/envs/ipykernel_py3/lib/python3.6/site-packages/plotly/tools.py\u001b[0m in \u001b[0;36m__init__\u001b[0;34m(self, url, width, height)\u001b[0m\n\u001b[1;32m   1479\u001b[0m         \u001b[0;32mdef\u001b[0m \u001b[0m__init__\u001b[0m\u001b[0;34m(\u001b[0m\u001b[0mself\u001b[0m\u001b[0;34m,\u001b[0m \u001b[0murl\u001b[0m\u001b[0;34m,\u001b[0m \u001b[0mwidth\u001b[0m\u001b[0;34m,\u001b[0m \u001b[0mheight\u001b[0m\u001b[0;34m)\u001b[0m\u001b[0;34m:\u001b[0m\u001b[0;34m\u001b[0m\u001b[0m\n\u001b[1;32m   1480\u001b[0m             \u001b[0mself\u001b[0m\u001b[0;34m.\u001b[0m\u001b[0mresource\u001b[0m \u001b[0;34m=\u001b[0m \u001b[0murl\u001b[0m\u001b[0;34m\u001b[0m\u001b[0m\n\u001b[0;32m-> 1481\u001b[0;31m             \u001b[0mself\u001b[0m\u001b[0;34m.\u001b[0m\u001b[0membed_code\u001b[0m \u001b[0;34m=\u001b[0m \u001b[0mget_embed\u001b[0m\u001b[0;34m(\u001b[0m\u001b[0murl\u001b[0m\u001b[0;34m,\u001b[0m \u001b[0mwidth\u001b[0m\u001b[0;34m=\u001b[0m\u001b[0mwidth\u001b[0m\u001b[0;34m,\u001b[0m \u001b[0mheight\u001b[0m\u001b[0;34m=\u001b[0m\u001b[0mheight\u001b[0m\u001b[0;34m)\u001b[0m\u001b[0;34m\u001b[0m\u001b[0m\n\u001b[0m\u001b[1;32m   1482\u001b[0m             \u001b[0msuper\u001b[0m\u001b[0;34m(\u001b[0m\u001b[0mPlotlyDisplay\u001b[0m\u001b[0;34m,\u001b[0m \u001b[0mself\u001b[0m\u001b[0;34m)\u001b[0m\u001b[0;34m.\u001b[0m\u001b[0m__init__\u001b[0m\u001b[0;34m(\u001b[0m\u001b[0mdata\u001b[0m\u001b[0;34m=\u001b[0m\u001b[0mself\u001b[0m\u001b[0;34m.\u001b[0m\u001b[0membed_code\u001b[0m\u001b[0;34m)\u001b[0m\u001b[0;34m\u001b[0m\u001b[0m\n\u001b[1;32m   1483\u001b[0m \u001b[0;34m\u001b[0m\u001b[0m\n",
      "\u001b[0;32m//anaconda/envs/ipykernel_py3/lib/python3.6/site-packages/plotly/tools.py\u001b[0m in \u001b[0;36mget_embed\u001b[0;34m(file_owner_or_url, file_id, width, height)\u001b[0m\n\u001b[1;32m    304\u001b[0m                 \u001b[0;34m\"'{1}'.\"\u001b[0m\u001b[0;34m\u001b[0m\u001b[0m\n\u001b[1;32m    305\u001b[0m                 \u001b[0;34m\"\\nRun help on this function for more information.\"\u001b[0m\u001b[0;34m\u001b[0m\u001b[0m\n\u001b[0;32m--> 306\u001b[0;31m                 \"\".format(url, plotly_rest_url))\n\u001b[0m\u001b[1;32m    307\u001b[0m         \u001b[0murlsplit\u001b[0m \u001b[0;34m=\u001b[0m \u001b[0msix\u001b[0m\u001b[0;34m.\u001b[0m\u001b[0mmoves\u001b[0m\u001b[0;34m.\u001b[0m\u001b[0murllib\u001b[0m\u001b[0;34m.\u001b[0m\u001b[0mparse\u001b[0m\u001b[0;34m.\u001b[0m\u001b[0murlparse\u001b[0m\u001b[0;34m(\u001b[0m\u001b[0murl\u001b[0m\u001b[0;34m)\u001b[0m\u001b[0;34m\u001b[0m\u001b[0m\n\u001b[1;32m    308\u001b[0m         \u001b[0mfile_owner\u001b[0m \u001b[0;34m=\u001b[0m \u001b[0murlsplit\u001b[0m\u001b[0;34m.\u001b[0m\u001b[0mpath\u001b[0m\u001b[0;34m.\u001b[0m\u001b[0msplit\u001b[0m\u001b[0;34m(\u001b[0m\u001b[0;34m'/'\u001b[0m\u001b[0;34m)\u001b[0m\u001b[0;34m[\u001b[0m\u001b[0;36m1\u001b[0m\u001b[0;34m]\u001b[0m\u001b[0;34m.\u001b[0m\u001b[0msplit\u001b[0m\u001b[0;34m(\u001b[0m\u001b[0;34m'~'\u001b[0m\u001b[0;34m)\u001b[0m\u001b[0;34m[\u001b[0m\u001b[0;36m1\u001b[0m\u001b[0;34m]\u001b[0m\u001b[0;34m\u001b[0m\u001b[0m\n",
      "\u001b[0;31mPlotlyError\u001b[0m: Because you didn't supply a 'file_id' in the call, we're assuming you're trying to snag a figure from a url. You supplied the url, '', we expected it to start with 'https://plot.ly'.\nRun help on this function for more information."
     ]
    }
   ],
   "source": [
    "data = dict(\n",
    "    type='sankey',\n",
    "    node = dict(\n",
    "      pad = 15,\n",
    "      thickness = 20,\n",
    "      line = dict(\n",
    "        color = \"black\",\n",
    "        width = 0.5,\n",
    "        height = 100\n",
    "      ),\n",
    "      label = source_list,\n",
    "      color = colors\n",
    "    ),\n",
    "    link = dict(\n",
    "      source = source_index_list,\n",
    "      target = target_index_list,\n",
    "      value = count_list\n",
    "  ))\n",
    "\n",
    "layout =  dict(\n",
    "    title = \"Order to Family\",\n",
    "    font = dict(\n",
    "      size = 10\n",
    "    )\n",
    ")\n",
    "\n",
    "fig = dict(data=[data], layout=layout)\n",
    "py.iplot(fig, validate=False)"
   ]
  },
  {
   "cell_type": "markdown",
   "metadata": {},
   "source": [
    "<img src=\"../data/Order_family_Sankey.png\">"
   ]
  },
  {
   "cell_type": "markdown",
   "metadata": {},
   "source": [
    "It seems the most common family in the dataset seems to be Colubridae, the largest family of snakes. Lets see how the samples of Colubridae are geographically distributed. \n",
    "\n",
    "- **Ciera**: Talk a bit more about the Colubridae family."
   ]
  },
  {
   "cell_type": "code",
   "execution_count": 18,
   "metadata": {
    "collapsed": true
   },
   "outputs": [],
   "source": [
    "Colubridae_geo=Squamata.where('family', are.equal_to('Colubridae')).select(\"country\", \"stateprovince\", \"decimallatitude\", \"decimallongitude\")\n",
    "#.group(range(4))"
   ]
  },
  {
   "cell_type": "code",
   "execution_count": 19,
   "metadata": {},
   "outputs": [],
   "source": [
    "Colubridae_df_full = pd.DataFrame({'Latitude':Colubridae_geo.select(\"decimallatitude\").column(0), \n",
    "                           \"Longitude\":Colubridae_geo.select(\"decimallongitude\").column(0),\n",
    "                         #\"Count\":Colubridae_geo.select(\"count\").column(0),\n",
    "                              \"Country\":Colubridae_geo.select(\"country\").column(0)})"
   ]
  },
  {
   "cell_type": "code",
   "execution_count": 21,
   "metadata": {
    "scrolled": true
   },
   "outputs": [
    {
     "name": "stdout",
     "output_type": "stream",
     "text": [
      "Aw, snap! We didn't get a username with your request.\n",
      "\n",
      "Don't have an account? https://plot.ly/api_signup\n",
      "\n",
      "Questions? accounts@plot.ly\n"
     ]
    },
    {
     "ename": "PlotlyError",
     "evalue": "Because you didn't supply a 'file_id' in the call, we're assuming you're trying to snag a figure from a url. You supplied the url, '', we expected it to start with 'https://plot.ly'.\nRun help on this function for more information.",
     "output_type": "error",
     "traceback": [
      "\u001b[0;31m---------------------------------------------------------------------------\u001b[0m",
      "\u001b[0;31mPlotlyError\u001b[0m                               Traceback (most recent call last)",
      "\u001b[0;32m<ipython-input-21-8c9b2a571ce5>\u001b[0m in \u001b[0;36m<module>\u001b[0;34m()\u001b[0m\n\u001b[1;32m     58\u001b[0m \u001b[0;34m\u001b[0m\u001b[0m\n\u001b[1;32m     59\u001b[0m \u001b[0mfig\u001b[0m \u001b[0;34m=\u001b[0m \u001b[0;34m{\u001b[0m \u001b[0;34m'data'\u001b[0m\u001b[0;34m:\u001b[0m\u001b[0mdata\u001b[0m\u001b[0;34m,\u001b[0m \u001b[0;34m'layout'\u001b[0m\u001b[0;34m:\u001b[0m\u001b[0mlayout\u001b[0m \u001b[0;34m}\u001b[0m\u001b[0;34m\u001b[0m\u001b[0m\n\u001b[0;32m---> 60\u001b[0;31m \u001b[0mpy\u001b[0m\u001b[0;34m.\u001b[0m\u001b[0miplot\u001b[0m\u001b[0;34m(\u001b[0m\u001b[0mfig\u001b[0m\u001b[0;34m,\u001b[0m \u001b[0mfilename\u001b[0m\u001b[0;34m=\u001b[0m\u001b[0;34m'Colubridae'\u001b[0m\u001b[0;34m)\u001b[0m\u001b[0;34m\u001b[0m\u001b[0m\n\u001b[0m",
      "\u001b[0;32m//anaconda/envs/ipykernel_py3/lib/python3.6/site-packages/plotly/plotly/plotly.py\u001b[0m in \u001b[0;36miplot\u001b[0;34m(figure_or_data, **plot_options)\u001b[0m\n\u001b[1;32m    168\u001b[0m         \u001b[0membed_options\u001b[0m\u001b[0;34m[\u001b[0m\u001b[0;34m'height'\u001b[0m\u001b[0;34m]\u001b[0m \u001b[0;34m=\u001b[0m \u001b[0mstr\u001b[0m\u001b[0;34m(\u001b[0m\u001b[0membed_options\u001b[0m\u001b[0;34m[\u001b[0m\u001b[0;34m'height'\u001b[0m\u001b[0;34m]\u001b[0m\u001b[0;34m)\u001b[0m \u001b[0;34m+\u001b[0m \u001b[0;34m'px'\u001b[0m\u001b[0;34m\u001b[0m\u001b[0m\n\u001b[1;32m    169\u001b[0m \u001b[0;34m\u001b[0m\u001b[0m\n\u001b[0;32m--> 170\u001b[0;31m     \u001b[0;32mreturn\u001b[0m \u001b[0mtools\u001b[0m\u001b[0;34m.\u001b[0m\u001b[0membed\u001b[0m\u001b[0;34m(\u001b[0m\u001b[0murl\u001b[0m\u001b[0;34m,\u001b[0m \u001b[0;34m**\u001b[0m\u001b[0membed_options\u001b[0m\u001b[0;34m)\u001b[0m\u001b[0;34m\u001b[0m\u001b[0m\n\u001b[0m\u001b[1;32m    171\u001b[0m \u001b[0;34m\u001b[0m\u001b[0m\n\u001b[1;32m    172\u001b[0m \u001b[0;34m\u001b[0m\u001b[0m\n",
      "\u001b[0;32m//anaconda/envs/ipykernel_py3/lib/python3.6/site-packages/plotly/tools.py\u001b[0m in \u001b[0;36membed\u001b[0;34m(file_owner_or_url, file_id, width, height)\u001b[0m\n\u001b[1;32m    399\u001b[0m         \u001b[0;32melse\u001b[0m\u001b[0;34m:\u001b[0m\u001b[0;34m\u001b[0m\u001b[0m\n\u001b[1;32m    400\u001b[0m             \u001b[0murl\u001b[0m \u001b[0;34m=\u001b[0m \u001b[0mfile_owner_or_url\u001b[0m\u001b[0;34m\u001b[0m\u001b[0m\n\u001b[0;32m--> 401\u001b[0;31m         \u001b[0;32mreturn\u001b[0m \u001b[0mPlotlyDisplay\u001b[0m\u001b[0;34m(\u001b[0m\u001b[0murl\u001b[0m\u001b[0;34m,\u001b[0m \u001b[0mwidth\u001b[0m\u001b[0;34m,\u001b[0m \u001b[0mheight\u001b[0m\u001b[0;34m)\u001b[0m\u001b[0;34m\u001b[0m\u001b[0m\n\u001b[0m\u001b[1;32m    402\u001b[0m     \u001b[0;32melse\u001b[0m\u001b[0;34m:\u001b[0m\u001b[0;34m\u001b[0m\u001b[0m\n\u001b[1;32m    403\u001b[0m         if (get_config_defaults()['plotly_domain']\n",
      "\u001b[0;32m//anaconda/envs/ipykernel_py3/lib/python3.6/site-packages/plotly/tools.py\u001b[0m in \u001b[0;36m__init__\u001b[0;34m(self, url, width, height)\u001b[0m\n\u001b[1;32m   1479\u001b[0m         \u001b[0;32mdef\u001b[0m \u001b[0m__init__\u001b[0m\u001b[0;34m(\u001b[0m\u001b[0mself\u001b[0m\u001b[0;34m,\u001b[0m \u001b[0murl\u001b[0m\u001b[0;34m,\u001b[0m \u001b[0mwidth\u001b[0m\u001b[0;34m,\u001b[0m \u001b[0mheight\u001b[0m\u001b[0;34m)\u001b[0m\u001b[0;34m:\u001b[0m\u001b[0;34m\u001b[0m\u001b[0m\n\u001b[1;32m   1480\u001b[0m             \u001b[0mself\u001b[0m\u001b[0;34m.\u001b[0m\u001b[0mresource\u001b[0m \u001b[0;34m=\u001b[0m \u001b[0murl\u001b[0m\u001b[0;34m\u001b[0m\u001b[0m\n\u001b[0;32m-> 1481\u001b[0;31m             \u001b[0mself\u001b[0m\u001b[0;34m.\u001b[0m\u001b[0membed_code\u001b[0m \u001b[0;34m=\u001b[0m \u001b[0mget_embed\u001b[0m\u001b[0;34m(\u001b[0m\u001b[0murl\u001b[0m\u001b[0;34m,\u001b[0m \u001b[0mwidth\u001b[0m\u001b[0;34m=\u001b[0m\u001b[0mwidth\u001b[0m\u001b[0;34m,\u001b[0m \u001b[0mheight\u001b[0m\u001b[0;34m=\u001b[0m\u001b[0mheight\u001b[0m\u001b[0;34m)\u001b[0m\u001b[0;34m\u001b[0m\u001b[0m\n\u001b[0m\u001b[1;32m   1482\u001b[0m             \u001b[0msuper\u001b[0m\u001b[0;34m(\u001b[0m\u001b[0mPlotlyDisplay\u001b[0m\u001b[0;34m,\u001b[0m \u001b[0mself\u001b[0m\u001b[0;34m)\u001b[0m\u001b[0;34m.\u001b[0m\u001b[0m__init__\u001b[0m\u001b[0;34m(\u001b[0m\u001b[0mdata\u001b[0m\u001b[0;34m=\u001b[0m\u001b[0mself\u001b[0m\u001b[0;34m.\u001b[0m\u001b[0membed_code\u001b[0m\u001b[0;34m)\u001b[0m\u001b[0;34m\u001b[0m\u001b[0m\n\u001b[1;32m   1483\u001b[0m \u001b[0;34m\u001b[0m\u001b[0m\n",
      "\u001b[0;32m//anaconda/envs/ipykernel_py3/lib/python3.6/site-packages/plotly/tools.py\u001b[0m in \u001b[0;36mget_embed\u001b[0;34m(file_owner_or_url, file_id, width, height)\u001b[0m\n\u001b[1;32m    304\u001b[0m                 \u001b[0;34m\"'{1}'.\"\u001b[0m\u001b[0;34m\u001b[0m\u001b[0m\n\u001b[1;32m    305\u001b[0m                 \u001b[0;34m\"\\nRun help on this function for more information.\"\u001b[0m\u001b[0;34m\u001b[0m\u001b[0m\n\u001b[0;32m--> 306\u001b[0;31m                 \"\".format(url, plotly_rest_url))\n\u001b[0m\u001b[1;32m    307\u001b[0m         \u001b[0murlsplit\u001b[0m \u001b[0;34m=\u001b[0m \u001b[0msix\u001b[0m\u001b[0;34m.\u001b[0m\u001b[0mmoves\u001b[0m\u001b[0;34m.\u001b[0m\u001b[0murllib\u001b[0m\u001b[0;34m.\u001b[0m\u001b[0mparse\u001b[0m\u001b[0;34m.\u001b[0m\u001b[0murlparse\u001b[0m\u001b[0;34m(\u001b[0m\u001b[0murl\u001b[0m\u001b[0;34m)\u001b[0m\u001b[0;34m\u001b[0m\u001b[0m\n\u001b[1;32m    308\u001b[0m         \u001b[0mfile_owner\u001b[0m \u001b[0;34m=\u001b[0m \u001b[0murlsplit\u001b[0m\u001b[0;34m.\u001b[0m\u001b[0mpath\u001b[0m\u001b[0;34m.\u001b[0m\u001b[0msplit\u001b[0m\u001b[0;34m(\u001b[0m\u001b[0;34m'/'\u001b[0m\u001b[0;34m)\u001b[0m\u001b[0;34m[\u001b[0m\u001b[0;36m1\u001b[0m\u001b[0;34m]\u001b[0m\u001b[0;34m.\u001b[0m\u001b[0msplit\u001b[0m\u001b[0;34m(\u001b[0m\u001b[0;34m'~'\u001b[0m\u001b[0;34m)\u001b[0m\u001b[0;34m[\u001b[0m\u001b[0;36m1\u001b[0m\u001b[0;34m]\u001b[0m\u001b[0;34m\u001b[0m\u001b[0m\n",
      "\u001b[0;31mPlotlyError\u001b[0m: Because you didn't supply a 'file_id' in the call, we're assuming you're trying to snag a figure from a url. You supplied the url, '', we expected it to start with 'https://plot.ly'.\nRun help on this function for more information."
     ]
    }
   ],
   "source": [
    "scl = [0,\"rgb(150,0,90)\"],[.125,\"rgb(0, 0, 200)\"],[.25,\"rgb(0, 25, 255)\"], [.375,\"rgb(0, 152, 255)\"],[.5,\"rgb(44, 255, 150)\"],[.625,\"rgb(151, 255, 0)\"], [.75,\"rgb(255, 234, 0)\"],[.875,\"rgb(255, 111, 0)\"], [1,\"rgb(255, 0, 0)\"]\n",
    "\n",
    "data = [ dict(\n",
    "    lat = Colubridae_df_full['Latitude'],\n",
    "    lon = Colubridae_df_full['Longitude'],\n",
    "    #text = Colubridae_df_full['Count'],\n",
    "    marker = dict(\n",
    "        #color = Colubridae_df_full['Count'],\n",
    "        #colorscale = scl,\n",
    "        #reversescale = True,\n",
    "        opacity = 0.7,\n",
    "        size = 6,\n",
    "        colorbar = dict(\n",
    "            thickness = 10,\n",
    "            titleside = \"right\",\n",
    "            outlinecolor = \"rgba(68, 68, 68, 0)\",\n",
    "            ticks = \"outside\",\n",
    "            ticklen = 3,\n",
    "            dtick = 1\n",
    "        ),\n",
    "    ),\n",
    "    type = 'scattergeo'\n",
    ") ]\n",
    "\n",
    "layout = dict(\n",
    "    geo = dict(\n",
    "        scope = 'world',\n",
    "        showland = True,\n",
    "        landcolor = \"rgb(212, 212, 212)\",\n",
    "        subunitcolor = \"rgb(255, 255, 255)\",\n",
    "        countrycolor = \"rgb(255, 255, 255)\",\n",
    "        showlakes = True,\n",
    "        lakecolor = \"rgb(255, 255, 255)\",\n",
    "        showsubunits = True,\n",
    "        showcountries = True,\n",
    "        resolution = 50,\n",
    "        projection = dict(\n",
    "            type = 'mercator',\n",
    "            rotation = dict(\n",
    "                lon = -100\n",
    "            )\n",
    "        ),\n",
    "        lonaxis = dict(\n",
    "            showgrid = True,\n",
    "            gridwidth = 0.5,\n",
    "            range= [ -140.0, -55.0 ],\n",
    "            dtick = 5\n",
    "        ),\n",
    "        lataxis = dict (\n",
    "            showgrid = True,\n",
    "            gridwidth = 0.5,\n",
    "            range= [ 20.0, 60.0 ],\n",
    "            dtick = 5\n",
    "        )\n",
    "    ),\n",
    "    title = 'Colubridae',\n",
    ")\n",
    "\n",
    "fig = { 'data':data, 'layout':layout }\n",
    "py.iplot(fig, filename='Colubridae')"
   ]
  },
  {
   "cell_type": "markdown",
   "metadata": {},
   "source": [
    "<img src=\"../data/Colubridae_map.png\">"
   ]
  },
  {
   "cell_type": "code",
   "execution_count": 22,
   "metadata": {},
   "outputs": [
    {
     "ename": "NameError",
     "evalue": "name 'source_index_list' is not defined",
     "output_type": "error",
     "traceback": [
      "\u001b[0;31m---------------------------------------------------------------------------\u001b[0m",
      "\u001b[0;31mNameError\u001b[0m                                 Traceback (most recent call last)",
      "\u001b[0;32m<ipython-input-22-d1650f155072>\u001b[0m in \u001b[0;36m<module>\u001b[0;34m()\u001b[0m\n\u001b[0;32m----> 1\u001b[0;31m \u001b[0msource_index_list_combined\u001b[0m\u001b[0;34m=\u001b[0m\u001b[0msource_index_list\u001b[0m\u001b[0;34m+\u001b[0m\u001b[0;34m[\u001b[0m\u001b[0mi\u001b[0m \u001b[0;32mfor\u001b[0m \u001b[0mi\u001b[0m \u001b[0;32min\u001b[0m \u001b[0mreturn_index\u001b[0m\u001b[0;34m(\u001b[0m\u001b[0mfamily2\u001b[0m\u001b[0;34m,\u001b[0m \u001b[0mgenus2\u001b[0m\u001b[0;34m)\u001b[0m\u001b[0;34m[\u001b[0m\u001b[0;36m0\u001b[0m\u001b[0;34m]\u001b[0m\u001b[0;34m]\u001b[0m\u001b[0;34m\u001b[0m\u001b[0m\n\u001b[0m\u001b[1;32m      2\u001b[0m \u001b[0mtarget_index_list_combined\u001b[0m\u001b[0;34m=\u001b[0m\u001b[0mtarget_index_list\u001b[0m\u001b[0;34m+\u001b[0m\u001b[0;34m[\u001b[0m\u001b[0mi\u001b[0m\u001b[0;34m+\u001b[0m \u001b[0mlen\u001b[0m\u001b[0;34m(\u001b[0m\u001b[0mtarget_index_list\u001b[0m\u001b[0;34m)\u001b[0m \u001b[0;32mfor\u001b[0m \u001b[0mi\u001b[0m \u001b[0;32min\u001b[0m \u001b[0mreturn_index\u001b[0m\u001b[0;34m(\u001b[0m\u001b[0mfamily2\u001b[0m\u001b[0;34m,\u001b[0m \u001b[0mgenus2\u001b[0m\u001b[0;34m)\u001b[0m\u001b[0;34m[\u001b[0m\u001b[0;36m1\u001b[0m\u001b[0;34m]\u001b[0m\u001b[0;34m]\u001b[0m\u001b[0;34m\u001b[0m\u001b[0m\n\u001b[1;32m      3\u001b[0m \u001b[0mcount_list_combined\u001b[0m\u001b[0;34m=\u001b[0m\u001b[0mlist\u001b[0m\u001b[0;34m(\u001b[0m\u001b[0mTaxonomy\u001b[0m\u001b[0;34m.\u001b[0m\u001b[0mgroup\u001b[0m\u001b[0;34m(\u001b[0m\u001b[0;34m[\u001b[0m\u001b[0;34m'order'\u001b[0m\u001b[0;34m,\u001b[0m \u001b[0;34m'family'\u001b[0m\u001b[0;34m]\u001b[0m\u001b[0;34m)\u001b[0m\u001b[0;34m.\u001b[0m\u001b[0mcolumn\u001b[0m\u001b[0;34m(\u001b[0m\u001b[0;36m2\u001b[0m\u001b[0;34m)\u001b[0m\u001b[0;34m)\u001b[0m\u001b[0;34m+\u001b[0m\u001b[0mlist\u001b[0m\u001b[0;34m(\u001b[0m\u001b[0mfamily_genus\u001b[0m\u001b[0;34m.\u001b[0m\u001b[0mcolumn\u001b[0m\u001b[0;34m(\u001b[0m\u001b[0;36m2\u001b[0m\u001b[0;34m)\u001b[0m\u001b[0;34m)\u001b[0m\u001b[0;34m\u001b[0m\u001b[0m\n\u001b[1;32m      4\u001b[0m \u001b[0mcolors_combined\u001b[0m\u001b[0;34m=\u001b[0m\u001b[0;34m[\u001b[0m\u001b[0;34m\"blue\"\u001b[0m\u001b[0;34m]\u001b[0m\u001b[0;34m*\u001b[0m\u001b[0;34m(\u001b[0m\u001b[0mlen\u001b[0m\u001b[0;34m(\u001b[0m\u001b[0mlist\u001b[0m\u001b[0;34m(\u001b[0m\u001b[0mTaxonomy\u001b[0m\u001b[0;34m.\u001b[0m\u001b[0mgroup\u001b[0m\u001b[0;34m(\u001b[0m\u001b[0;34m[\u001b[0m\u001b[0;34m'order'\u001b[0m\u001b[0;34m,\u001b[0m \u001b[0;34m'family'\u001b[0m\u001b[0;34m]\u001b[0m\u001b[0;34m)\u001b[0m\u001b[0;34m.\u001b[0m\u001b[0mcolumn\u001b[0m\u001b[0;34m(\u001b[0m\u001b[0;36m0\u001b[0m\u001b[0;34m)\u001b[0m\u001b[0;34m)\u001b[0m\u001b[0;34m)\u001b[0m\u001b[0;34m+\u001b[0m\u001b[0mlen\u001b[0m\u001b[0;34m(\u001b[0m\u001b[0mlist\u001b[0m\u001b[0;34m(\u001b[0m\u001b[0mTaxonomy\u001b[0m\u001b[0;34m.\u001b[0m\u001b[0mgroup\u001b[0m\u001b[0;34m(\u001b[0m\u001b[0;34m[\u001b[0m\u001b[0;34m'family'\u001b[0m\u001b[0;34m,\u001b[0m \u001b[0;34m'genus'\u001b[0m\u001b[0;34m]\u001b[0m\u001b[0;34m)\u001b[0m\u001b[0;34m.\u001b[0m\u001b[0mcolumn\u001b[0m\u001b[0;34m(\u001b[0m\u001b[0;36m0\u001b[0m\u001b[0;34m)\u001b[0m\u001b[0;34m)\u001b[0m\u001b[0;34m)\u001b[0m\u001b[0;34m)\u001b[0m\u001b[0;34m\u001b[0m\u001b[0m\n\u001b[1;32m      5\u001b[0m \u001b[0msource_list_combined\u001b[0m\u001b[0;34m=\u001b[0m\u001b[0;34m[\u001b[0m\u001b[0;34m'Squamata'\u001b[0m\u001b[0;34m]\u001b[0m\u001b[0;34m+\u001b[0m\u001b[0mfamily1\u001b[0m\u001b[0;34m+\u001b[0m\u001b[0mgenus2\u001b[0m\u001b[0;34m\u001b[0m\u001b[0m\n",
      "\u001b[0;31mNameError\u001b[0m: name 'source_index_list' is not defined"
     ]
    }
   ],
   "source": [
    "source_index_list_combined=source_index_list+[i for i in return_index(family2, genus2)[0]]\n",
    "target_index_list_combined=target_index_list+[i+ len(target_index_list) for i in return_index(family2, genus2)[1]]\n",
    "count_list_combined=list(Taxonomy.group(['order', 'family']).column(2))+list(family_genus.column(2))\n",
    "colors_combined=[\"blue\"]*(len(list(Taxonomy.group(['order', 'family']).column(0)))+len(list(Taxonomy.group(['family', 'genus']).column(0))))\n",
    "source_list_combined=['Squamata']+family1+genus2"
   ]
  },
  {
   "cell_type": "code",
   "execution_count": 23,
   "metadata": {
    "scrolled": true
   },
   "outputs": [
    {
     "ename": "NameError",
     "evalue": "name 'source_list_combined' is not defined",
     "output_type": "error",
     "traceback": [
      "\u001b[0;31m---------------------------------------------------------------------------\u001b[0m",
      "\u001b[0;31mNameError\u001b[0m                                 Traceback (most recent call last)",
      "\u001b[0;32m<ipython-input-23-e8e0d320253a>\u001b[0m in \u001b[0;36m<module>\u001b[0;34m()\u001b[0m\n\u001b[1;32m     13\u001b[0m     )\n\u001b[1;32m     14\u001b[0m       ),\n\u001b[0;32m---> 15\u001b[0;31m       \u001b[0mlabel\u001b[0m \u001b[0;34m=\u001b[0m \u001b[0msource_list_combined\u001b[0m\u001b[0;34m,\u001b[0m\u001b[0;34m\u001b[0m\u001b[0m\n\u001b[0m\u001b[1;32m     16\u001b[0m       \u001b[0mcolor\u001b[0m \u001b[0;34m=\u001b[0m \u001b[0mcolors_combined\u001b[0m\u001b[0;34m\u001b[0m\u001b[0m\n\u001b[1;32m     17\u001b[0m     ),\n",
      "\u001b[0;31mNameError\u001b[0m: name 'source_list_combined' is not defined"
     ]
    }
   ],
   "source": [
    "data = dict(\n",
    "    type='sankey',\n",
    "    node = dict(\n",
    "      pad = 1500,\n",
    "      thickness = 20,\n",
    "      line = dict(\n",
    "        color = \"black\",\n",
    "        width = 1,\n",
    "        height = 1000,\n",
    "        domain = dict(\n",
    "          x =  [0,1],\n",
    "          y =  [0,1]\n",
    "    )\n",
    "      ),\n",
    "      label = source_list_combined,\n",
    "      color = colors_combined\n",
    "    ),\n",
    "    link = dict(\n",
    "      source = source_index_list_combined,\n",
    "      target = target_index_list_combined,\n",
    "      value = count_list_combined\n",
    "  ))\n",
    "\n",
    "layout =  dict(\n",
    "    title = \"Order, Family, Genus\",\n",
    "    font = dict(\n",
    "      size = 10\n",
    "    )\n",
    ")\n",
    "\n",
    "fig = dict(data=[data], layout=layout)\n",
    "py.iplot(fig, validate=False)"
   ]
  },
  {
   "cell_type": "markdown",
   "metadata": {},
   "source": [
    "<img src=\"../data/Order_Family_Genus_Sankey.png\">"
   ]
  },
  {
   "cell_type": "code",
   "execution_count": null,
   "metadata": {
    "collapsed": true
   },
   "outputs": [],
   "source": [
    "#upon closer inspection it seems this graph does not connect the right family to genus. I will fix this."
   ]
  },
  {
   "cell_type": "code",
   "execution_count": null,
   "metadata": {
    "collapsed": true
   },
   "outputs": [],
   "source": [
    "Squamata.where('genus', are.equal_to(''))"
   ]
  },
  {
   "cell_type": "code",
   "execution_count": null,
   "metadata": {
    "collapsed": true
   },
   "outputs": [],
   "source": []
  },
  {
   "cell_type": "code",
   "execution_count": null,
   "metadata": {},
   "outputs": [],
   "source": []
  }
 ],
 "metadata": {
  "kernelspec": {
   "display_name": "Python 3",
   "language": "python",
   "name": "python3"
  },
  "language_info": {
   "codemirror_mode": {
    "name": "ipython",
    "version": 3
   },
   "file_extension": ".py",
   "mimetype": "text/x-python",
   "name": "python",
   "nbconvert_exporter": "python",
   "pygments_lexer": "ipython3",
   "version": "3.6.5"
  }
 },
 "nbformat": 4,
 "nbformat_minor": 2
}
