{
 "cells": [
  {
   "cell_type": "code",
   "execution_count": null,
   "metadata": {},
   "outputs": [],
   "source": [
    "Taxonomy=Vertebrates.select(\"scientificname\", \"kingdom\", \"phylum\", \"class\", \"order\", \"family\", \"genus\").group(range(1,7))\n",
    "family_genus=Vertebrates.select(\"scientificname\", \"kingdom\", \"phylum\", \"class\", \"order\", \"family\", \"genus\").group([5,6])"
   ]
  },
  {
   "cell_type": "code",
   "execution_count": null,
   "metadata": {},
   "outputs": [],
   "source": [
    "def return_index(source, target):\n",
    "    source_index=[]\n",
    "    target_index=[]\n",
    "    index=0\n",
    "    for name_s in source:\n",
    "        source_index+=[source.index(name_s)]\n",
    "        target_index+=[index]\n",
    "        index+=1\n",
    "    return source_index, target_index"
   ]
  },
  {
   "cell_type": "code",
   "execution_count": null,
   "metadata": {},
   "outputs": [],
   "source": [
    "order1=list(Taxonomy.group(['order', 'family']).column(0))\n",
    "family1=list(Taxonomy.group(['order', 'family']).column(1))\n",
    "family2=list(Taxonomy.group(['family', 'genus']).group(0).column(0))\n",
    "genus2= list(Taxonomy.group(['family', 'genus']).column(1))"
   ]
  },
  {
   "cell_type": "code",
   "execution_count": null,
   "metadata": {},
   "outputs": [],
   "source": [
    "source_index_list=return_index(order1, family1)[0]\n",
    "target_index_list=[i + 1 for i in return_index(order1, family1)[1]]\n",
    "count_list=list(Taxonomy.group(['order', 'family']).column(2))\n",
    "colors=[\"blue\"]*len(list(Taxonomy.group(['order', 'family']).column(0)))\n",
    "source_list=['Animalia']+family1"
   ]
  },
  {
   "cell_type": "code",
   "execution_count": null,
   "metadata": {},
   "outputs": [],
   "source": [
    "source_index_list_combined=source_index_list+[i for i in return_index(family2, genus2)[0]]\n",
    "target_index_list_combined=target_index_list+[i+ len(target_index_list) for i in return_index(family2, genus2)[1]]\n",
    "count_list_combined=list(Taxonomy.group(['order', 'family']).column(2))+list(family_genus.column(2))\n",
    "colors_combined=[\"blue\"]*(len(list(Taxonomy.group(['order', 'family']).column(0)))+len(list(Taxonomy.group(['family', 'genus']).column(0))))\n",
    "source_list_combined=['Animalia']+family1+genus2"
   ]
  },
  {
   "cell_type": "code",
   "execution_count": null,
   "metadata": {},
   "outputs": [],
   "source": [
    "import plotly.plotly as py\n",
    "\n",
    "data = dict(\n",
    "    type='sankey',\n",
    "    node = dict(\n",
    "      pad = 1500,\n",
    "      thickness = 20,\n",
    "      line = dict(\n",
    "        color = \"black\",\n",
    "        width = 1,\n",
    "        height = 1000,\n",
    "        domain = dict(\n",
    "          x =  [0,1],\n",
    "          y =  [0,1]\n",
    "    )\n",
    "      ),\n",
    "      label = source_list_combined,\n",
    "      color = colors_combined\n",
    "    ),\n",
    "    link = dict(\n",
    "      source = source_index_list_combined,\n",
    "      target = target_index_list_combined,\n",
    "      value = count_list_combined\n",
    "  ))\n",
    "\n",
    "layout =  dict(\n",
    "    title = \"Basic Sankey Diagram\",\n",
    "    font = dict(\n",
    "      size = 10\n",
    "    )\n",
    ")\n",
    "\n",
    "fig = dict(data=[data], layout=layout)\n",
    "py.iplot(fig, validate=False)"
   ]
  }
 ],
 "metadata": {
  "kernelspec": {
   "display_name": "Python 3",
   "language": "python",
   "name": "python3"
  },
  "language_info": {
   "codemirror_mode": {
    "name": "ipython",
    "version": 3
   },
   "file_extension": ".py",
   "mimetype": "text/x-python",
   "name": "python",
   "nbconvert_exporter": "python",
   "pygments_lexer": "ipython3",
   "version": "3.6.5"
  }
 },
 "nbformat": 4,
 "nbformat_minor": 2
}
