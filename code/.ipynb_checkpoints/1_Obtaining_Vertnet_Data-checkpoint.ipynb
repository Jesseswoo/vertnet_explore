{
 "cells": [
  {
   "cell_type": "markdown",
   "metadata": {},
   "source": [
    "# Vertnet"
   ]
  },
  {
   "cell_type": "markdown",
   "metadata": {},
   "source": [
    "VertNet is a NSF-funded collaborative project to increase availability and accessibility biodiversity data on the web. VertNet is designed to aid individuals in discovering, capturing, and publishing biodiversity data. The goal of Vertnet is to build upon the successes of vertebrate networks like FishNet, MaNIS, HerpNET, ORNIS by combining them into a single integrated data portal and creating a cloud-based computing strategy to create a fast, sustainable, and scalable data platform with capabilities and applications for data discovery, data quality improvement, and visualization. \n",
    "\n",
    "The Vertnet team consists of individuals from the Universities of California Berkeley, Colorado, Kansas, and Tulane along with partners working on a wide-range of biodiversity projects.\n"
   ]
  },
  {
   "cell_type": "markdown",
   "metadata": {},
   "source": [
    "## Accessing Vertnet"
   ]
  },
  {
   "cell_type": "markdown",
   "metadata": {},
   "source": [
    "Records in the Vertnet database can be accessed through either the Search portal or through the Vertnet API. "
   ]
  },
  {
   "cell_type": "markdown",
   "metadata": {},
   "source": [
    "### Search Portal"
   ]
  },
  {
   "cell_type": "markdown",
   "metadata": {},
   "source": [
    "The Vertnet search portal can be accessed [here](http://portal.vertnet.org/search)."
   ]
  },
  {
   "cell_type": "markdown",
   "metadata": {},
   "source": [
    "<img src=\"../data/Vertnet_Search_Portal_1.JPG\">"
   ]
  },
  {
   "cell_type": "markdown",
   "metadata": {},
   "source": [
    "<img src=\"../data/Vertnet_Search_Portal_2.JPG\">"
   ]
  },
  {
   "cell_type": "markdown",
   "metadata": {},
   "source": [
    "<img src=\"../data/Vertnet_Search_Portal_3.JPG\">"
   ]
  },
  {
   "cell_type": "markdown",
   "metadata": {},
   "source": [
    "<img src=\"../data/Vertnet_Search_Portal_4.JPG\">"
   ]
  },
  {
   "cell_type": "markdown",
   "metadata": {},
   "source": [
    "### API"
   ]
  },
  {
   "cell_type": "markdown",
   "metadata": {},
   "source": [
    "Vertnet offers two options to access their database through an API: A search API and a download API. "
   ]
  },
  {
   "cell_type": "markdown",
   "metadata": {},
   "source": [
    "#### Search API"
   ]
  },
  {
   "cell_type": "markdown",
   "metadata": {},
   "source": [
    "The Search API allows users to access data in a more programatic way. This method wraps results matching the query requests into a JSON response object, which allows data search and retrieval to be automated."
   ]
  },
  {
   "cell_type": "markdown",
   "metadata": {},
   "source": [
    "```python\n",
    "Vertnet_Search_API_Base_URL='http://api.vertnet-portal.appspot.com/api/search?q={\"q\":\"query\"}'\n",
    "```"
   ]
  },
  {
   "cell_type": "markdown",
   "metadata": {},
   "source": [
    "The query object is located in the curly brackets. The `\"q\"` represents the query string element and the `\"query\"` represents keyword search phrase. For example, to return all records that have a keyword match with vertebrate, the Search API url would be"
   ]
  },
  {
   "cell_type": "markdown",
   "metadata": {},
   "source": [
    "http://api.vertnet-portal.appspot.com/api/search?q={\"q\":\"vertebrate\"}"
   ]
  },
  {
   "cell_type": "markdown",
   "metadata": {},
   "source": [
    "The search API also allows for Field-specific keyword search query strings can utilize. The available search terms can be found [here](https://github.com/VertNet/api/wiki/Query-string)"
   ]
  },
  {
   "cell_type": "markdown",
   "metadata": {},
   "source": [
    "#### Download API"
   ]
  },
  {
   "cell_type": "markdown",
   "metadata": {},
   "source": [
    "http://api-module.vertnet-portal.appspot.com/api/v1/download?q={\"q\":\"Vertebrate\",\"n\":\"Vertebrates\",\"e\":\"you@example.com\"}"
   ]
  },
  {
   "cell_type": "markdown",
   "metadata": {},
   "source": [
    "Just like the search portal, the Download API allows the user to obtain the data from the database in a tab-delimited formatted text file. The user sends a request through the API link and the records are compiled on the Vertnet servers. Once the files are \n",
    "compiled the user will receive an email at the address specified which will contain a link to the text file.  \n",
    "\n",
    "The download API requires three fields in the query object `\"q\"`, `\"n\"`, and `\"e\"`. `\"q\"` represents the query string element, `\"n\"` represents the name , and `\"e\"` represents the the email that the user would like to receive the email containing the download link.  \n",
    "\n",
    "Furthermore, just like in the search API, the download API allows for additional search fields to help narrow what records are returned. "
   ]
  },
  {
   "cell_type": "markdown",
   "metadata": {},
   "source": [
    "The download option is best for bulk downloading of large sets of VertNet records for later use"
   ]
  },
  {
   "cell_type": "markdown",
   "metadata": {},
   "source": [
    "## Summarizing and Cleaning Data"
   ]
  },
  {
   "cell_type": "markdown",
   "metadata": {},
   "source": [
    "The dataset we just created can be downloaded from [here](Vertebrates.txt)"
   ]
  },
  {
   "cell_type": "markdown",
   "metadata": {},
   "source": [
    "Now that we have the dataset in a tab-delimited formatted text file, we can read the dataset through a python package. I personally like using the `datascience` package"
   ]
  },
  {
   "cell_type": "code",
   "execution_count": 3,
   "metadata": {},
   "outputs": [],
   "source": [
    "from datascience import *"
   ]
  },
  {
   "cell_type": "code",
   "execution_count": 4,
   "metadata": {
    "scrolled": true
   },
   "outputs": [
    {
     "name": "stderr",
     "output_type": "stream",
     "text": [
      "/home/JESSE/anaconda3/lib/python3.6/site-packages/IPython/core/interactiveshell.py:2903: DtypeWarning: Columns (12,14,18,19,26,29,31,34,36,41,44,45,47,55,63,70,75,81,82,89,90,91,93,95,96,98,120,121,122,123,125,126,146,147,156) have mixed types. Specify dtype option on import or set low_memory=False.\n",
      "  if self.run_code(code, result):\n"
     ]
    },
    {
     "data": {
      "text/html": [
       "<table border=\"1\" class=\"dataframe\">\n",
       "    <thead>\n",
       "        <tr>\n",
       "            <th>type</th> <th>modified</th> <th>license</th> <th>rightsholder</th> <th>accessrights</th> <th>bibliographiccitation</th> <th>references</th> <th>institutionid</th> <th>collectionid</th> <th>datasetid</th> <th>institutioncode</th> <th>collectioncode</th> <th>datasetname</th> <th>basisofrecord</th> <th>informationwithheld</th> <th>datageneralizations</th> <th>dynamicproperties</th> <th>occurrenceid</th> <th>catalognumber</th> <th>recordnumber</th> <th>recordedby</th> <th>individualcount</th> <th>sex</th> <th>lifestage</th> <th>reproductivecondition</th> <th>behavior</th> <th>establishmentmeans</th> <th>occurrencestatus</th> <th>preparations</th> <th>disposition</th> <th>associatedmedia</th> <th>associatedreferences</th> <th>associatedsequences</th> <th>associatedtaxa</th> <th>othercatalognumbers</th> <th>occurrenceremarks</th> <th>organismid</th> <th>organismname</th> <th>organismscope</th> <th>associatedoccurrences</th> <th>associatedorganisms</th> <th>previousidentifications</th> <th>organismremarks</th> <th>materialsampleid</th> <th>eventid</th> <th>fieldnumber</th> <th>eventdate</th> <th>eventtime</th> <th>startdayofyear</th> <th>enddayofyear</th> <th>year</th> <th>month</th> <th>day</th> <th>verbatimeventdate</th> <th>habitat</th> <th>samplingprotocol</th> <th>samplingeffort</th> <th>fieldnotes</th> <th>eventremarks</th> <th>locationid</th> <th>highergeographyid</th> <th>highergeography</th> <th>continent</th> <th>waterbody</th> <th>islandgroup</th> <th>island</th> <th>country</th> <th>countrycode</th> <th>stateprovince</th> <th>county</th> <th>municipality</th> <th>locality</th> <th>verbatimlocality</th> <th>minimumelevationinmeters</th> <th>maximumelevationinmeters</th> <th>verbatimelevation</th> <th>minimumdepthinmeters</th> <th>maximumdepthinmeters</th> <th>verbatimdepth</th> <th>minimumdistanceabovesurfaceinmeters</th> <th>maximumdistanceabovesurfaceinmeters</th> <th>locationaccordingto</th> <th>locationremarks</th> <th>decimallatitude</th> <th>decimallongitude</th> <th>geodeticdatum</th> <th>coordinateuncertaintyinmeters</th> <th>coordinateprecision</th> <th>verbatimcoordinates</th> <th>verbatimlatitude</th> <th>verbatimlongitude</th> <th>verbatimcoordinatesystem</th> <th>verbatimsrs</th> <th>footprintwkt</th> <th>footprintsrs</th> <th>georeferencedby</th> <th>georeferenceddate</th> <th>georeferenceprotocol</th> <th>georeferencesources</th> <th>georeferenceverificationstatus</th> <th>georeferenceremarks</th> <th>geologicalcontextid</th> <th>earliesteonorlowesteonothem</th> <th>latesteonorhighesteonothem</th> <th>earliesteraorlowesterathem</th> <th>latesteraorhighesterathem</th> <th>earliestperiodorlowestsystem</th> <th>latestperiodorhighestsystem</th> <th>earliestepochorlowestseries</th> <th>latestepochorhighestseries</th> <th>earliestageorloweststage</th> <th>latestageorhigheststage</th> <th>lowestbiostratigraphiczone</th> <th>highestbiostratigraphiczone</th> <th>lithostratigraphicterms</th> <th>group</th> <th>formation</th> <th>member</th> <th>bed</th> <th>identificationid</th> <th>identificationqualifier</th> <th>typestatus</th> <th>identifiedby</th> <th>dateidentified</th> <th>identificationreferences</th> <th>identificationverificationstatus</th> <th>identificationremarks</th> <th>scientificnameid</th> <th>namepublishedinid</th> <th>scientificname</th> <th>acceptednameusage</th> <th>originalnameusage</th> <th>namepublishedin</th> <th>namepublishedinyear</th> <th>higherclassification</th> <th>kingdom</th> <th>phylum</th> <th>class</th> <th>order</th> <th>family</th> <th>genus</th> <th>subgenus</th> <th>specificepithet</th> <th>infraspecificepithet</th> <th>taxonrank</th> <th>verbatimtaxonrank</th> <th>scientificnameauthorship</th> <th>vernacularname</th> <th>nomenclaturalcode</th> <th>taxonomicstatus</th> <th>taxonremarks</th> <th>lengthinmm</th> <th>lengthtype</th> <th>lengthunitsinferred</th> <th>massing</th> <th>massunitsinferred</th> <th>underivedlifestage</th> <th>underivedsex</th> <th>dataset_url</th> <th>dataset_citation</th> <th>gbifdatasetid</th> <th>gbifpublisherid</th> <th>dataset_contact_email</th> <th>dataset_contact</th> <th>dataset_pubdate</th> <th>lastindexed</th> <th>migrator_version</th> <th>hasmedia</th> <th>hastissue</th> <th>wascaptive</th> <th>isfossil</th> <th>isarch</th> <th>vntype</th> <th>haslength</th>\n",
       "        </tr>\n",
       "    </thead>\n",
       "    <tbody>\n",
       "        <tr>\n",
       "            <td>PhysicalObject</td> <td>2015-01-07</td> <td>CCBY   </td> <td>nan         </td> <td>http://vertnet.org/resources/norms.html</td> <td>Australian Museum. Australian Museum provider for OZCAM. ...</td> <td>http://portal.vertnet.org/o/am/ichthyology?id=056ccd1b-1 ...</td> <td>nan          </td> <td>nan         </td> <td>nan      </td> <td>AM             </td> <td>Ichthyology   </td> <td>nan        </td> <td>PreservedSpecimen</td> <td>nan                </td> <td>nan                </td> <td>nan              </td> <td>056ccd1b-1c64-4dfd-a495-0cb0f23cbd4d</td> <td>I.16250.047  </td> <td>nan         </td> <td>Macquarie University Vertebrate Zoology Class</td> <td>nan            </td> <td>nan </td> <td>nan      </td> <td>nan                  </td> <td>nan     </td> <td>nan               </td> <td>present         </td> <td>nan         </td> <td>nan        </td> <td>nan            </td> <td>nan                 </td> <td>nan                </td> <td>nan           </td> <td>nan                </td> <td>nan              </td> <td>nan       </td> <td>nan         </td> <td>nan          </td> <td>nan                  </td> <td>nan                </td> <td>nan                    </td> <td>nan            </td> <td>nan             </td> <td>urn:australianmuseum.net.au:Events:8031549</td> <td>nan        </td> <td>1972-05-24</td> <td>10:0     </td> <td>145           </td> <td>145         </td> <td>1972</td> <td>5    </td> <td>24  </td> <td>1972-05-24       </td> <td>nan    </td> <td>nan             </td> <td>nan           </td> <td>nan       </td> <td>nan         </td> <td>nan       </td> <td>nan              </td> <td>| Australia | New South Wales |  |  |  |  |</td> <td>Australasia</td> <td>nan      </td> <td>nan        </td> <td>nan   </td> <td>Australia</td> <td>AU         </td> <td>New South Wales</td> <td>nan   </td> <td>nan         </td> <td>nan     </td> <td>Australia | New South Wales</td> <td>nan                     </td> <td>nan                     </td> <td>nan              </td> <td>nan                 </td> <td>nan                 </td> <td>nan          </td> <td>nan                                </td> <td>nan                                </td> <td>nan                </td> <td>ecatalogue.LocCollectionEventLocal: [I.16250] Australia, ...</td> <td>-32.433        </td> <td>152.533         </td> <td>not recorded (forced WGS84)</td> <td>10000                        </td> <td>0.001              </td> <td>nan                </td> <td>nan             </td> <td>nan              </td> <td>nan                     </td> <td>nan        </td> <td>nan         </td> <td>nan         </td> <td>nan            </td> <td>nan              </td> <td>nan                 </td> <td>nan                </td> <td>requires verification         </td> <td>nan                </td> <td>nan                </td> <td>nan                        </td> <td>nan                       </td> <td>nan                       </td> <td>nan                      </td> <td>nan                         </td> <td>nan                        </td> <td>nan                        </td> <td>nan                       </td> <td>nan                     </td> <td>nan                    </td> <td>nan                       </td> <td>nan                        </td> <td>nan                    </td> <td>nan  </td> <td>nan      </td> <td>nan   </td> <td>nan </td> <td>nan             </td> <td>nan                    </td> <td>nan       </td> <td>nan                                                         </td> <td>nan           </td> <td>nan                     </td> <td>nan                             </td> <td>nan                  </td> <td>nan             </td> <td>nan              </td> <td>Chironemus marmoratus   </td> <td>nan              </td> <td>nan              </td> <td>nan            </td> <td>nan                </td> <td>| Chordata |  |  | Chironemidae | Chironemus             </td> <td>Animalia</td> <td>Chordata</td> <td>Actinopterygii</td> <td>Perciformes      </td> <td>Chironemidae  </td> <td>Chironemus  </td> <td>nan     </td> <td>marmoratus     </td> <td>nan                 </td> <td>species  </td> <td>nan              </td> <td>nan                     </td> <td>Eastern Kelpfish     </td> <td>ICZN             </td> <td>nan            </td> <td>nan         </td> <td>nan       </td> <td>nan       </td> <td>nan                </td> <td>nan    </td> <td>nan              </td> <td>nan               </td> <td>nan         </td> <td>nan        </td> <td>Australian Museum. Australian Museum provider for OZCAM. ...</td> <td>dce8feb0-6c89-11de-8225-b8a03c50a862</td> <td>770c30d2-c2a8-4bb2-8056-6167297cddae</td> <td>OZCAM.CHAFC@gmail.com</td> <td>OZCAM Webmaster</td> <td>2015-01-07     </td> <td>2016-07-22 </td> <td>2015-01-05      </td> <td>0       </td> <td>0        </td> <td>0         </td> <td>0       </td> <td>nan   </td> <td>specimen</td> <td>0        </td>\n",
       "        </tr>\n",
       "        <tr>\n",
       "            <td>PhysicalObject</td> <td>2015-01-07</td> <td>CCBY   </td> <td>nan         </td> <td>http://vertnet.org/resources/norms.html</td> <td>Australian Museum. Australian Museum provider for OZCAM. ...</td> <td>http://portal.vertnet.org/o/am/ichthyology?id=059a5328-e ...</td> <td>nan          </td> <td>nan         </td> <td>nan      </td> <td>AM             </td> <td>Ichthyology   </td> <td>nan        </td> <td>PreservedSpecimen</td> <td>nan                </td> <td>nan                </td> <td>nan              </td> <td>059a5328-e600-4ef4-b668-0ff975a9a16c</td> <td>I.16250-024  </td> <td>nan         </td> <td>Macquarie University Vertebrate Zoology Class</td> <td>nan            </td> <td>nan </td> <td>nan      </td> <td>nan                  </td> <td>nan     </td> <td>nan               </td> <td>present         </td> <td>nan         </td> <td>nan        </td> <td>nan            </td> <td>nan                 </td> <td>nan                </td> <td>nan           </td> <td>nan                </td> <td>nan              </td> <td>nan       </td> <td>nan         </td> <td>nan          </td> <td>nan                  </td> <td>nan                </td> <td>nan                    </td> <td>nan            </td> <td>nan             </td> <td>urn:australianmuseum.net.au:Events:8031549</td> <td>nan        </td> <td>1972-05-24</td> <td>10:0     </td> <td>145           </td> <td>145         </td> <td>1972</td> <td>5    </td> <td>24  </td> <td>1972-05-24       </td> <td>nan    </td> <td>nan             </td> <td>nan           </td> <td>nan       </td> <td>nan         </td> <td>nan       </td> <td>nan              </td> <td>| Australia | New South Wales |  |  |  |  |</td> <td>Australasia</td> <td>nan      </td> <td>nan        </td> <td>nan   </td> <td>Australia</td> <td>AU         </td> <td>New South Wales</td> <td>nan   </td> <td>nan         </td> <td>nan     </td> <td>Australia | New South Wales</td> <td>nan                     </td> <td>nan                     </td> <td>nan              </td> <td>nan                 </td> <td>nan                 </td> <td>nan          </td> <td>nan                                </td> <td>nan                                </td> <td>nan                </td> <td>ecatalogue.LocCollectionEventLocal: [I.16250] Australia, ...</td> <td>-32.433        </td> <td>152.533         </td> <td>not recorded (forced WGS84)</td> <td>10000                        </td> <td>0.001              </td> <td>nan                </td> <td>nan             </td> <td>nan              </td> <td>nan                     </td> <td>nan        </td> <td>nan         </td> <td>nan         </td> <td>nan            </td> <td>nan              </td> <td>nan                 </td> <td>nan                </td> <td>requires verification         </td> <td>nan                </td> <td>nan                </td> <td>nan                        </td> <td>nan                       </td> <td>nan                       </td> <td>nan                      </td> <td>nan                         </td> <td>nan                        </td> <td>nan                        </td> <td>nan                       </td> <td>nan                     </td> <td>nan                    </td> <td>nan                       </td> <td>nan                        </td> <td>nan                    </td> <td>nan  </td> <td>nan      </td> <td>nan   </td> <td>nan </td> <td>nan             </td> <td>nan                    </td> <td>nan       </td> <td>Hutchins, Dr Barry - Western Australian Museum - Departm ...</td> <td>1980          </td> <td>nan                     </td> <td>nan                             </td> <td>nan                  </td> <td>nan             </td> <td>nan              </td> <td>Acanthistius cinctus    </td> <td>nan              </td> <td>nan              </td> <td>nan            </td> <td>nan                </td> <td>| Chordata |  |  | Serranidae | Acanthistius             </td> <td>Animalia</td> <td>Chordata</td> <td>Actinopterygii</td> <td>Perciformes      </td> <td>Serranidae    </td> <td>Acanthistius</td> <td>nan     </td> <td>cinctus        </td> <td>nan                 </td> <td>species  </td> <td>nan              </td> <td>nan                     </td> <td>Girdled Rock Cod     </td> <td>ICZN             </td> <td>nan            </td> <td>nan         </td> <td>nan       </td> <td>nan       </td> <td>nan                </td> <td>nan    </td> <td>nan              </td> <td>nan               </td> <td>nan         </td> <td>nan        </td> <td>Australian Museum. Australian Museum provider for OZCAM. ...</td> <td>dce8feb0-6c89-11de-8225-b8a03c50a862</td> <td>770c30d2-c2a8-4bb2-8056-6167297cddae</td> <td>OZCAM.CHAFC@gmail.com</td> <td>OZCAM Webmaster</td> <td>2015-01-07     </td> <td>2016-07-22 </td> <td>2015-01-05      </td> <td>0       </td> <td>0        </td> <td>0         </td> <td>0       </td> <td>nan   </td> <td>specimen</td> <td>0        </td>\n",
       "        </tr>\n",
       "        <tr>\n",
       "            <td>PhysicalObject</td> <td>2015-01-07</td> <td>CCBY   </td> <td>nan         </td> <td>http://vertnet.org/resources/norms.html</td> <td>Australian Museum. Australian Museum provider for OZCAM. ...</td> <td>http://portal.vertnet.org/o/am/ichthyology?id=13cb1c9f-4 ...</td> <td>nan          </td> <td>nan         </td> <td>nan      </td> <td>AM             </td> <td>Ichthyology   </td> <td>nan        </td> <td>PreservedSpecimen</td> <td>nan                </td> <td>nan                </td> <td>nan              </td> <td>13cb1c9f-4702-4490-b306-f26e25ac3899</td> <td>I.16250-029  </td> <td>nan         </td> <td>Macquarie University Vertebrate Zoology Class</td> <td>nan            </td> <td>nan </td> <td>nan      </td> <td>nan                  </td> <td>nan     </td> <td>nan               </td> <td>present         </td> <td>nan         </td> <td>nan        </td> <td>nan            </td> <td>nan                 </td> <td>nan                </td> <td>nan           </td> <td>nan                </td> <td>nan              </td> <td>nan       </td> <td>nan         </td> <td>nan          </td> <td>nan                  </td> <td>nan                </td> <td>nan                    </td> <td>nan            </td> <td>nan             </td> <td>urn:australianmuseum.net.au:Events:8031549</td> <td>nan        </td> <td>1972-05-24</td> <td>10:0     </td> <td>145           </td> <td>145         </td> <td>1972</td> <td>5    </td> <td>24  </td> <td>1972-05-24       </td> <td>nan    </td> <td>nan             </td> <td>nan           </td> <td>nan       </td> <td>nan         </td> <td>nan       </td> <td>nan              </td> <td>| Australia | New South Wales |  |  |  |  |</td> <td>Australasia</td> <td>nan      </td> <td>nan        </td> <td>nan   </td> <td>Australia</td> <td>AU         </td> <td>New South Wales</td> <td>nan   </td> <td>nan         </td> <td>nan     </td> <td>Australia | New South Wales</td> <td>nan                     </td> <td>nan                     </td> <td>nan              </td> <td>nan                 </td> <td>nan                 </td> <td>nan          </td> <td>nan                                </td> <td>nan                                </td> <td>nan                </td> <td>ecatalogue.LocCollectionEventLocal: [I.16250] Australia, ...</td> <td>-32.433        </td> <td>152.533         </td> <td>not recorded (forced WGS84)</td> <td>10000                        </td> <td>0.001              </td> <td>nan                </td> <td>nan             </td> <td>nan              </td> <td>nan                     </td> <td>nan        </td> <td>nan         </td> <td>nan         </td> <td>nan            </td> <td>nan              </td> <td>nan                 </td> <td>nan                </td> <td>requires verification         </td> <td>nan                </td> <td>nan                </td> <td>nan                        </td> <td>nan                       </td> <td>nan                       </td> <td>nan                      </td> <td>nan                         </td> <td>nan                        </td> <td>nan                        </td> <td>nan                       </td> <td>nan                     </td> <td>nan                    </td> <td>nan                       </td> <td>nan                        </td> <td>nan                    </td> <td>nan  </td> <td>nan      </td> <td>nan   </td> <td>nan </td> <td>nan             </td> <td>nan                    </td> <td>nan       </td> <td>HOESE, D                                                    </td> <td>1972          </td> <td>nan                     </td> <td>nan                             </td> <td>nan                  </td> <td>nan             </td> <td>nan              </td> <td>Stegastes apicalis      </td> <td>nan              </td> <td>nan              </td> <td>nan            </td> <td>nan                </td> <td>| Chordata |  |  | Pomacentridae | Stegastes             </td> <td>Animalia</td> <td>Chordata</td> <td>Actinopterygii</td> <td>Perciformes      </td> <td>Pomacentridae </td> <td>Stegastes   </td> <td>nan     </td> <td>apicalis       </td> <td>nan                 </td> <td>species  </td> <td>nan              </td> <td>nan                     </td> <td>Yellowtip Gregory    </td> <td>ICZN             </td> <td>nan            </td> <td>nan         </td> <td>nan       </td> <td>nan       </td> <td>nan                </td> <td>nan    </td> <td>nan              </td> <td>nan               </td> <td>nan         </td> <td>nan        </td> <td>Australian Museum. Australian Museum provider for OZCAM. ...</td> <td>dce8feb0-6c89-11de-8225-b8a03c50a862</td> <td>770c30d2-c2a8-4bb2-8056-6167297cddae</td> <td>OZCAM.CHAFC@gmail.com</td> <td>OZCAM Webmaster</td> <td>2015-01-07     </td> <td>2016-07-22 </td> <td>2015-01-05      </td> <td>0       </td> <td>0        </td> <td>0         </td> <td>0       </td> <td>nan   </td> <td>specimen</td> <td>0        </td>\n",
       "        </tr>\n",
       "        <tr>\n",
       "            <td>PhysicalObject</td> <td>2015-01-07</td> <td>CCBY   </td> <td>nan         </td> <td>http://vertnet.org/resources/norms.html</td> <td>Australian Museum. Australian Museum provider for OZCAM. ...</td> <td>http://portal.vertnet.org/o/am/ichthyology?id=20f53d0b-b ...</td> <td>nan          </td> <td>nan         </td> <td>nan      </td> <td>AM             </td> <td>Ichthyology   </td> <td>nan        </td> <td>PreservedSpecimen</td> <td>nan                </td> <td>nan                </td> <td>nan              </td> <td>20f53d0b-bf06-476f-a90e-221cd8770d2d</td> <td>I.16250-017  </td> <td>nan         </td> <td>Macquarie University Vertebrate Zoology Class</td> <td>nan            </td> <td>nan </td> <td>nan      </td> <td>nan                  </td> <td>nan     </td> <td>nan               </td> <td>present         </td> <td>nan         </td> <td>nan        </td> <td>nan            </td> <td>nan                 </td> <td>nan                </td> <td>nan           </td> <td>nan                </td> <td>nan              </td> <td>nan       </td> <td>nan         </td> <td>nan          </td> <td>nan                  </td> <td>nan                </td> <td>nan                    </td> <td>nan            </td> <td>nan             </td> <td>urn:australianmuseum.net.au:Events:8031549</td> <td>nan        </td> <td>1972-05-24</td> <td>10:0     </td> <td>145           </td> <td>145         </td> <td>1972</td> <td>5    </td> <td>24  </td> <td>1972-05-24       </td> <td>nan    </td> <td>nan             </td> <td>nan           </td> <td>nan       </td> <td>nan         </td> <td>nan       </td> <td>nan              </td> <td>| Australia | New South Wales |  |  |  |  |</td> <td>Australasia</td> <td>nan      </td> <td>nan        </td> <td>nan   </td> <td>Australia</td> <td>AU         </td> <td>New South Wales</td> <td>nan   </td> <td>nan         </td> <td>nan     </td> <td>Australia | New South Wales</td> <td>nan                     </td> <td>nan                     </td> <td>nan              </td> <td>nan                 </td> <td>nan                 </td> <td>nan          </td> <td>nan                                </td> <td>nan                                </td> <td>nan                </td> <td>ecatalogue.LocCollectionEventLocal: [I.16250] Australia, ...</td> <td>-32.433        </td> <td>152.533         </td> <td>not recorded (forced WGS84)</td> <td>10000                        </td> <td>0.001              </td> <td>nan                </td> <td>nan             </td> <td>nan              </td> <td>nan                     </td> <td>nan        </td> <td>nan         </td> <td>nan         </td> <td>nan            </td> <td>nan              </td> <td>nan                 </td> <td>nan                </td> <td>requires verification         </td> <td>nan                </td> <td>nan                </td> <td>nan                        </td> <td>nan                       </td> <td>nan                       </td> <td>nan                      </td> <td>nan                         </td> <td>nan                        </td> <td>nan                        </td> <td>nan                       </td> <td>nan                     </td> <td>nan                    </td> <td>nan                       </td> <td>nan                        </td> <td>nan                    </td> <td>nan  </td> <td>nan      </td> <td>nan   </td> <td>nan </td> <td>nan             </td> <td>nan                    </td> <td>nan       </td> <td>Koeda, Keita - University of the Ryukyus - Faculty of Sc ...</td> <td>2012-8        </td> <td>nan                     </td> <td>nan                             </td> <td>nan                  </td> <td>nan             </td> <td>nan              </td> <td>Pempheris compressa     </td> <td>nan              </td> <td>nan              </td> <td>nan            </td> <td>nan                </td> <td>| Chordata |  |  | Pempheridae | Pempheris               </td> <td>Animalia</td> <td>Chordata</td> <td>Actinopterygii</td> <td>Perciformes      </td> <td>Pempheridae   </td> <td>Pempheris   </td> <td>nan     </td> <td>compressa      </td> <td>nan                 </td> <td>species  </td> <td>nan              </td> <td>nan                     </td> <td>Smallscale Bullseye  </td> <td>ICZN             </td> <td>nan            </td> <td>nan         </td> <td>nan       </td> <td>nan       </td> <td>nan                </td> <td>nan    </td> <td>nan              </td> <td>nan               </td> <td>nan         </td> <td>nan        </td> <td>Australian Museum. Australian Museum provider for OZCAM. ...</td> <td>dce8feb0-6c89-11de-8225-b8a03c50a862</td> <td>770c30d2-c2a8-4bb2-8056-6167297cddae</td> <td>OZCAM.CHAFC@gmail.com</td> <td>OZCAM Webmaster</td> <td>2015-01-07     </td> <td>2016-07-22 </td> <td>2015-01-05      </td> <td>0       </td> <td>0        </td> <td>0         </td> <td>0       </td> <td>nan   </td> <td>specimen</td> <td>0        </td>\n",
       "        </tr>\n",
       "        <tr>\n",
       "            <td>PhysicalObject</td> <td>2015-01-07</td> <td>CCBY   </td> <td>nan         </td> <td>http://vertnet.org/resources/norms.html</td> <td>Australian Museum. Australian Museum provider for OZCAM. ...</td> <td>http://portal.vertnet.org/o/am/ichthyology?id=31346343-7 ...</td> <td>nan          </td> <td>nan         </td> <td>nan      </td> <td>AM             </td> <td>Ichthyology   </td> <td>nan        </td> <td>PreservedSpecimen</td> <td>nan                </td> <td>nan                </td> <td>nan              </td> <td>31346343-7d4e-4d3a-b44b-62a3b4f211e0</td> <td>I.16250-014  </td> <td>nan         </td> <td>Macquarie University Vertebrate Zoology Class</td> <td>nan            </td> <td>nan </td> <td>nan      </td> <td>nan                  </td> <td>nan     </td> <td>nan               </td> <td>present         </td> <td>nan         </td> <td>nan        </td> <td>nan            </td> <td>nan                 </td> <td>nan                </td> <td>nan           </td> <td>nan                </td> <td>nan              </td> <td>nan       </td> <td>nan         </td> <td>nan          </td> <td>nan                  </td> <td>nan                </td> <td>nan                    </td> <td>nan            </td> <td>nan             </td> <td>urn:australianmuseum.net.au:Events:8031549</td> <td>nan        </td> <td>1972-05-24</td> <td>10:0     </td> <td>145           </td> <td>145         </td> <td>1972</td> <td>5    </td> <td>24  </td> <td>1972-05-24       </td> <td>nan    </td> <td>nan             </td> <td>nan           </td> <td>nan       </td> <td>nan         </td> <td>nan       </td> <td>nan              </td> <td>| Australia | New South Wales |  |  |  |  |</td> <td>Australasia</td> <td>nan      </td> <td>nan        </td> <td>nan   </td> <td>Australia</td> <td>AU         </td> <td>New South Wales</td> <td>nan   </td> <td>nan         </td> <td>nan     </td> <td>Australia | New South Wales</td> <td>nan                     </td> <td>nan                     </td> <td>nan              </td> <td>nan                 </td> <td>nan                 </td> <td>nan          </td> <td>nan                                </td> <td>nan                                </td> <td>nan                </td> <td>ecatalogue.LocCollectionEventLocal: [I.16250] Australia, ...</td> <td>-32.433        </td> <td>152.533         </td> <td>not recorded (forced WGS84)</td> <td>10000                        </td> <td>0.001              </td> <td>nan                </td> <td>nan             </td> <td>nan              </td> <td>nan                     </td> <td>nan        </td> <td>nan         </td> <td>nan         </td> <td>nan            </td> <td>nan              </td> <td>nan                 </td> <td>nan                </td> <td>requires verification         </td> <td>nan                </td> <td>nan                </td> <td>nan                        </td> <td>nan                       </td> <td>nan                       </td> <td>nan                      </td> <td>nan                         </td> <td>nan                        </td> <td>nan                        </td> <td>nan                       </td> <td>nan                     </td> <td>nan                    </td> <td>nan                       </td> <td>nan                        </td> <td>nan                    </td> <td>nan  </td> <td>nan      </td> <td>nan   </td> <td>nan </td> <td>nan             </td> <td>nan                    </td> <td>nan       </td> <td>HOESE, D                                                    </td> <td>1972          </td> <td>nan                     </td> <td>nan                             </td> <td>nan                  </td> <td>nan             </td> <td>nan              </td> <td>Pardachirus hedleyi     </td> <td>nan              </td> <td>nan              </td> <td>nan            </td> <td>nan                </td> <td>| Chordata |  |  | Soleidae | Pardachirus                </td> <td>Animalia</td> <td>Chordata</td> <td>Actinopterygii</td> <td>Pleuronectiformes</td> <td>Soleidae      </td> <td>Pardachirus </td> <td>nan     </td> <td>hedleyi        </td> <td>nan                 </td> <td>species  </td> <td>nan              </td> <td>nan                     </td> <td>Southern Peacock Sole</td> <td>ICZN             </td> <td>nan            </td> <td>nan         </td> <td>nan       </td> <td>nan       </td> <td>nan                </td> <td>nan    </td> <td>nan              </td> <td>nan               </td> <td>nan         </td> <td>nan        </td> <td>Australian Museum. Australian Museum provider for OZCAM. ...</td> <td>dce8feb0-6c89-11de-8225-b8a03c50a862</td> <td>770c30d2-c2a8-4bb2-8056-6167297cddae</td> <td>OZCAM.CHAFC@gmail.com</td> <td>OZCAM Webmaster</td> <td>2015-01-07     </td> <td>2016-07-22 </td> <td>2015-01-05      </td> <td>0       </td> <td>0        </td> <td>0         </td> <td>0       </td> <td>nan   </td> <td>specimen</td> <td>0        </td>\n",
       "        </tr>\n",
       "        <tr>\n",
       "            <td>PhysicalObject</td> <td>2015-01-07</td> <td>CCBY   </td> <td>nan         </td> <td>http://vertnet.org/resources/norms.html</td> <td>Australian Museum. Australian Museum provider for OZCAM. ...</td> <td>http://portal.vertnet.org/o/am/ichthyology?id=32b5b940-d ...</td> <td>nan          </td> <td>nan         </td> <td>nan      </td> <td>AM             </td> <td>Ichthyology   </td> <td>nan        </td> <td>PreservedSpecimen</td> <td>nan                </td> <td>nan                </td> <td>nan              </td> <td>32b5b940-dbc2-452a-962f-c738ba63fe20</td> <td>I.16250-005  </td> <td>nan         </td> <td>Macquarie University Vertebrate Zoology Class</td> <td>nan            </td> <td>nan </td> <td>nan      </td> <td>nan                  </td> <td>nan     </td> <td>nan               </td> <td>present         </td> <td>nan         </td> <td>nan        </td> <td>nan            </td> <td>nan                 </td> <td>nan                </td> <td>nan           </td> <td>nan                </td> <td>nan              </td> <td>nan       </td> <td>nan         </td> <td>nan          </td> <td>nan                  </td> <td>nan                </td> <td>nan                    </td> <td>nan            </td> <td>nan             </td> <td>urn:australianmuseum.net.au:Events:8031549</td> <td>nan        </td> <td>1972-05-24</td> <td>10:0     </td> <td>145           </td> <td>145         </td> <td>1972</td> <td>5    </td> <td>24  </td> <td>1972-05-24       </td> <td>nan    </td> <td>nan             </td> <td>nan           </td> <td>nan       </td> <td>nan         </td> <td>nan       </td> <td>nan              </td> <td>| Australia | New South Wales |  |  |  |  |</td> <td>Australasia</td> <td>nan      </td> <td>nan        </td> <td>nan   </td> <td>Australia</td> <td>AU         </td> <td>New South Wales</td> <td>nan   </td> <td>nan         </td> <td>nan     </td> <td>Australia | New South Wales</td> <td>nan                     </td> <td>nan                     </td> <td>nan              </td> <td>nan                 </td> <td>nan                 </td> <td>nan          </td> <td>nan                                </td> <td>nan                                </td> <td>nan                </td> <td>ecatalogue.LocCollectionEventLocal: [I.16250] Australia, ...</td> <td>-32.433        </td> <td>152.533         </td> <td>not recorded (forced WGS84)</td> <td>10000                        </td> <td>0.001              </td> <td>nan                </td> <td>nan             </td> <td>nan              </td> <td>nan                     </td> <td>nan        </td> <td>nan         </td> <td>nan         </td> <td>nan            </td> <td>nan              </td> <td>nan                 </td> <td>nan                </td> <td>requires verification         </td> <td>nan                </td> <td>nan                </td> <td>nan                        </td> <td>nan                       </td> <td>nan                       </td> <td>nan                      </td> <td>nan                         </td> <td>nan                        </td> <td>nan                        </td> <td>nan                       </td> <td>nan                     </td> <td>nan                    </td> <td>nan                       </td> <td>nan                        </td> <td>nan                    </td> <td>nan  </td> <td>nan      </td> <td>nan   </td> <td>nan </td> <td>nan             </td> <td>nan                    </td> <td>nan       </td> <td>Hoese, Dr Douglass Fielding - Australian Museum - Ichthy ...</td> <td>1972          </td> <td>nan                     </td> <td>nan                             </td> <td>nan                  </td> <td>nan             </td> <td>nan              </td> <td>Centropogon australis   </td> <td>nan              </td> <td>nan              </td> <td>nan            </td> <td>nan                </td> <td>| Chordata |  |  | Scorpaenidae | Centropogon            </td> <td>Animalia</td> <td>Chordata</td> <td>Actinopterygii</td> <td>Scorpaeniformes  </td> <td>Scorpaenidae  </td> <td>Centropogon </td> <td>nan     </td> <td>australis      </td> <td>nan                 </td> <td>species  </td> <td>nan              </td> <td>nan                     </td> <td>Southern Fortesque   </td> <td>ICZN             </td> <td>nan            </td> <td>nan         </td> <td>nan       </td> <td>nan       </td> <td>nan                </td> <td>nan    </td> <td>nan              </td> <td>nan               </td> <td>nan         </td> <td>nan        </td> <td>Australian Museum. Australian Museum provider for OZCAM. ...</td> <td>dce8feb0-6c89-11de-8225-b8a03c50a862</td> <td>770c30d2-c2a8-4bb2-8056-6167297cddae</td> <td>OZCAM.CHAFC@gmail.com</td> <td>OZCAM Webmaster</td> <td>2015-01-07     </td> <td>2016-07-22 </td> <td>2015-01-05      </td> <td>0       </td> <td>0        </td> <td>0         </td> <td>0       </td> <td>nan   </td> <td>specimen</td> <td>0        </td>\n",
       "        </tr>\n",
       "        <tr>\n",
       "            <td>PhysicalObject</td> <td>2015-01-07</td> <td>CCBY   </td> <td>nan         </td> <td>http://vertnet.org/resources/norms.html</td> <td>Australian Museum. Australian Museum provider for OZCAM. ...</td> <td>http://portal.vertnet.org/o/am/ichthyology?id=32ec8063-7 ...</td> <td>nan          </td> <td>nan         </td> <td>nan      </td> <td>AM             </td> <td>Ichthyology   </td> <td>nan        </td> <td>PreservedSpecimen</td> <td>nan                </td> <td>nan                </td> <td>nan              </td> <td>32ec8063-7ffd-4e50-9588-6ac154944473</td> <td>I.16250-026  </td> <td>nan         </td> <td>Macquarie University Vertebrate Zoology Class</td> <td>nan            </td> <td>nan </td> <td>nan      </td> <td>nan                  </td> <td>nan     </td> <td>nan               </td> <td>present         </td> <td>nan         </td> <td>nan        </td> <td>nan            </td> <td>nan                 </td> <td>nan                </td> <td>nan           </td> <td>nan                </td> <td>nan              </td> <td>nan       </td> <td>nan         </td> <td>nan          </td> <td>nan                  </td> <td>nan                </td> <td>nan                    </td> <td>nan            </td> <td>nan             </td> <td>urn:australianmuseum.net.au:Events:8031549</td> <td>nan        </td> <td>1972-05-24</td> <td>10:0     </td> <td>145           </td> <td>145         </td> <td>1972</td> <td>5    </td> <td>24  </td> <td>1972-05-24       </td> <td>nan    </td> <td>nan             </td> <td>nan           </td> <td>nan       </td> <td>nan         </td> <td>nan       </td> <td>nan              </td> <td>| Australia | New South Wales |  |  |  |  |</td> <td>Australasia</td> <td>nan      </td> <td>nan        </td> <td>nan   </td> <td>Australia</td> <td>AU         </td> <td>New South Wales</td> <td>nan   </td> <td>nan         </td> <td>nan     </td> <td>Australia | New South Wales</td> <td>nan                     </td> <td>nan                     </td> <td>nan              </td> <td>nan                 </td> <td>nan                 </td> <td>nan          </td> <td>nan                                </td> <td>nan                                </td> <td>nan                </td> <td>ecatalogue.LocCollectionEventLocal: [I.16250] Australia, ...</td> <td>-32.433        </td> <td>152.533         </td> <td>not recorded (forced WGS84)</td> <td>10000                        </td> <td>0.001              </td> <td>nan                </td> <td>nan             </td> <td>nan              </td> <td>nan                     </td> <td>nan        </td> <td>nan         </td> <td>nan         </td> <td>nan            </td> <td>nan              </td> <td>nan                 </td> <td>nan                </td> <td>requires verification         </td> <td>nan                </td> <td>nan                </td> <td>nan                        </td> <td>nan                       </td> <td>nan                       </td> <td>nan                      </td> <td>nan                         </td> <td>nan                        </td> <td>nan                        </td> <td>nan                       </td> <td>nan                     </td> <td>nan                    </td> <td>nan                       </td> <td>nan                        </td> <td>nan                    </td> <td>nan  </td> <td>nan      </td> <td>nan   </td> <td>nan </td> <td>nan             </td> <td>nan                    </td> <td>nan       </td> <td>Bohlke & McCosker                                           </td> <td>2000          </td> <td>nan                     </td> <td>nan                             </td> <td>nan                  </td> <td>nan             </td> <td>nan              </td> <td>Gymnothorax prasinus    </td> <td>nan              </td> <td>nan              </td> <td>nan            </td> <td>nan                </td> <td>| Chordata |  | Anguilliformes | Muraenidae | Gymnothorax</td> <td>Animalia</td> <td>Chordata</td> <td>Actinopterygii</td> <td>Anguilliformes   </td> <td>Muraenidae    </td> <td>Gymnothorax </td> <td>nan     </td> <td>prasinus       </td> <td>nan                 </td> <td>species  </td> <td>nan              </td> <td>nan                     </td> <td>Pettifogger          </td> <td>ICZN             </td> <td>nan            </td> <td>nan         </td> <td>nan       </td> <td>nan       </td> <td>nan                </td> <td>nan    </td> <td>nan              </td> <td>nan               </td> <td>nan         </td> <td>nan        </td> <td>Australian Museum. Australian Museum provider for OZCAM. ...</td> <td>dce8feb0-6c89-11de-8225-b8a03c50a862</td> <td>770c30d2-c2a8-4bb2-8056-6167297cddae</td> <td>OZCAM.CHAFC@gmail.com</td> <td>OZCAM Webmaster</td> <td>2015-01-07     </td> <td>2016-07-22 </td> <td>2015-01-05      </td> <td>0       </td> <td>0        </td> <td>0         </td> <td>0       </td> <td>nan   </td> <td>specimen</td> <td>0        </td>\n",
       "        </tr>\n",
       "        <tr>\n",
       "            <td>PhysicalObject</td> <td>2015-01-07</td> <td>CCBY   </td> <td>nan         </td> <td>http://vertnet.org/resources/norms.html</td> <td>Australian Museum. Australian Museum provider for OZCAM. ...</td> <td>http://portal.vertnet.org/o/am/ichthyology?id=33e50e5f-2 ...</td> <td>nan          </td> <td>nan         </td> <td>nan      </td> <td>AM             </td> <td>Ichthyology   </td> <td>nan        </td> <td>PreservedSpecimen</td> <td>nan                </td> <td>nan                </td> <td>nan              </td> <td>33e50e5f-246e-4a4a-90e7-686f3eaa7c51</td> <td>I.16250-041  </td> <td>nan         </td> <td>Macquarie University Vertebrate Zoology Class</td> <td>nan            </td> <td>nan </td> <td>nan      </td> <td>nan                  </td> <td>nan     </td> <td>nan               </td> <td>present         </td> <td>nan         </td> <td>nan        </td> <td>nan            </td> <td>nan                 </td> <td>nan                </td> <td>nan           </td> <td>nan                </td> <td>nan              </td> <td>nan       </td> <td>nan         </td> <td>nan          </td> <td>nan                  </td> <td>nan                </td> <td>nan                    </td> <td>nan            </td> <td>nan             </td> <td>urn:australianmuseum.net.au:Events:8031549</td> <td>nan        </td> <td>1972-05-24</td> <td>10:0     </td> <td>145           </td> <td>145         </td> <td>1972</td> <td>5    </td> <td>24  </td> <td>1972-05-24       </td> <td>nan    </td> <td>nan             </td> <td>nan           </td> <td>nan       </td> <td>nan         </td> <td>nan       </td> <td>nan              </td> <td>| Australia | New South Wales |  |  |  |  |</td> <td>Australasia</td> <td>nan      </td> <td>nan        </td> <td>nan   </td> <td>Australia</td> <td>AU         </td> <td>New South Wales</td> <td>nan   </td> <td>nan         </td> <td>nan     </td> <td>Australia | New South Wales</td> <td>nan                     </td> <td>nan                     </td> <td>nan              </td> <td>nan                 </td> <td>nan                 </td> <td>nan          </td> <td>nan                                </td> <td>nan                                </td> <td>nan                </td> <td>ecatalogue.LocCollectionEventLocal: [I.16250] Australia, ...</td> <td>-32.433        </td> <td>152.533         </td> <td>not recorded (forced WGS84)</td> <td>10000                        </td> <td>0.001              </td> <td>nan                </td> <td>nan             </td> <td>nan              </td> <td>nan                     </td> <td>nan        </td> <td>nan         </td> <td>nan         </td> <td>nan            </td> <td>nan              </td> <td>nan                 </td> <td>nan                </td> <td>requires verification         </td> <td>nan                </td> <td>nan                </td> <td>nan                        </td> <td>nan                       </td> <td>nan                       </td> <td>nan                      </td> <td>nan                         </td> <td>nan                        </td> <td>nan                        </td> <td>nan                       </td> <td>nan                     </td> <td>nan                    </td> <td>nan                       </td> <td>nan                        </td> <td>nan                    </td> <td>nan  </td> <td>nan      </td> <td>nan   </td> <td>nan </td> <td>nan             </td> <td>nan                    </td> <td>nan       </td> <td>nan                                                         </td> <td>nan           </td> <td>nan                     </td> <td>nan                             </td> <td>nan                  </td> <td>nan             </td> <td>nan              </td> <td>Tetractenos hamiltoni   </td> <td>nan              </td> <td>nan              </td> <td>nan            </td> <td>nan                </td> <td>| Chordata |  |  | Tetraodontidae | Tetractenos          </td> <td>Animalia</td> <td>Chordata</td> <td>Actinopterygii</td> <td>Tetraodontiformes</td> <td>Tetraodontidae</td> <td>Tetractenos </td> <td>nan     </td> <td>hamiltoni      </td> <td>nan                 </td> <td>species  </td> <td>nan              </td> <td>nan                     </td> <td>Common Toadfish      </td> <td>ICZN             </td> <td>nan            </td> <td>nan         </td> <td>nan       </td> <td>nan       </td> <td>nan                </td> <td>nan    </td> <td>nan              </td> <td>nan               </td> <td>nan         </td> <td>nan        </td> <td>Australian Museum. Australian Museum provider for OZCAM. ...</td> <td>dce8feb0-6c89-11de-8225-b8a03c50a862</td> <td>770c30d2-c2a8-4bb2-8056-6167297cddae</td> <td>OZCAM.CHAFC@gmail.com</td> <td>OZCAM Webmaster</td> <td>2015-01-07     </td> <td>2016-07-22 </td> <td>2015-01-05      </td> <td>0       </td> <td>0        </td> <td>0         </td> <td>0       </td> <td>nan   </td> <td>specimen</td> <td>0        </td>\n",
       "        </tr>\n",
       "        <tr>\n",
       "            <td>PhysicalObject</td> <td>2015-01-07</td> <td>CCBY   </td> <td>nan         </td> <td>http://vertnet.org/resources/norms.html</td> <td>Australian Museum. Australian Museum provider for OZCAM. ...</td> <td>http://portal.vertnet.org/o/am/ichthyology?id=3657e5a7-2 ...</td> <td>nan          </td> <td>nan         </td> <td>nan      </td> <td>AM             </td> <td>Ichthyology   </td> <td>nan        </td> <td>PreservedSpecimen</td> <td>nan                </td> <td>nan                </td> <td>nan              </td> <td>3657e5a7-26bf-417c-b709-55ac121501c5</td> <td>I.16250-018  </td> <td>nan         </td> <td>Macquarie University Vertebrate Zoology Class</td> <td>nan            </td> <td>nan </td> <td>nan      </td> <td>nan                  </td> <td>nan     </td> <td>nan               </td> <td>present         </td> <td>nan         </td> <td>nan        </td> <td>nan            </td> <td>nan                 </td> <td>nan                </td> <td>nan           </td> <td>nan                </td> <td>nan              </td> <td>nan       </td> <td>nan         </td> <td>nan          </td> <td>nan                  </td> <td>nan                </td> <td>nan                    </td> <td>nan            </td> <td>nan             </td> <td>urn:australianmuseum.net.au:Events:8031549</td> <td>nan        </td> <td>1972-05-24</td> <td>10:0     </td> <td>145           </td> <td>145         </td> <td>1972</td> <td>5    </td> <td>24  </td> <td>1972-05-24       </td> <td>nan    </td> <td>nan             </td> <td>nan           </td> <td>nan       </td> <td>nan         </td> <td>nan       </td> <td>nan              </td> <td>| Australia | New South Wales |  |  |  |  |</td> <td>Australasia</td> <td>nan      </td> <td>nan        </td> <td>nan   </td> <td>Australia</td> <td>AU         </td> <td>New South Wales</td> <td>nan   </td> <td>nan         </td> <td>nan     </td> <td>Australia | New South Wales</td> <td>nan                     </td> <td>nan                     </td> <td>nan              </td> <td>nan                 </td> <td>nan                 </td> <td>nan          </td> <td>nan                                </td> <td>nan                                </td> <td>nan                </td> <td>ecatalogue.LocCollectionEventLocal: [I.16250] Australia, ...</td> <td>-32.433        </td> <td>152.533         </td> <td>not recorded (forced WGS84)</td> <td>10000                        </td> <td>0.001              </td> <td>nan                </td> <td>nan             </td> <td>nan              </td> <td>nan                     </td> <td>nan        </td> <td>nan         </td> <td>nan         </td> <td>nan            </td> <td>nan              </td> <td>nan                 </td> <td>nan                </td> <td>requires verification         </td> <td>nan                </td> <td>nan                </td> <td>nan                        </td> <td>nan                       </td> <td>nan                       </td> <td>nan                      </td> <td>nan                         </td> <td>nan                        </td> <td>nan                        </td> <td>nan                       </td> <td>nan                     </td> <td>nan                    </td> <td>nan                       </td> <td>nan                        </td> <td>nan                    </td> <td>nan  </td> <td>nan      </td> <td>nan   </td> <td>nan </td> <td>nan             </td> <td>nan                    </td> <td>nan       </td> <td>Rennis, Ms Denise                                           </td> <td>1983          </td> <td>nan                     </td> <td>nan                             </td> <td>nan                  </td> <td>nan             </td> <td>nan              </td> <td>Heteroclinus whiteleggii</td> <td>nan              </td> <td>nan              </td> <td>nan            </td> <td>nan                </td> <td>| Chordata |  |  | Clinidae | Heteroclinus               </td> <td>Animalia</td> <td>Chordata</td> <td>Actinopterygii</td> <td>Perciformes      </td> <td>Clinidae      </td> <td>Heteroclinus</td> <td>nan     </td> <td>whiteleggii    </td> <td>nan                 </td> <td>species  </td> <td>nan              </td> <td>nan                     </td> <td>Banded Weedfish      </td> <td>ICZN             </td> <td>nan            </td> <td>nan         </td> <td>nan       </td> <td>nan       </td> <td>nan                </td> <td>nan    </td> <td>nan              </td> <td>nan               </td> <td>nan         </td> <td>nan        </td> <td>Australian Museum. Australian Museum provider for OZCAM. ...</td> <td>dce8feb0-6c89-11de-8225-b8a03c50a862</td> <td>770c30d2-c2a8-4bb2-8056-6167297cddae</td> <td>OZCAM.CHAFC@gmail.com</td> <td>OZCAM Webmaster</td> <td>2015-01-07     </td> <td>2016-07-22 </td> <td>2015-01-05      </td> <td>0       </td> <td>0        </td> <td>0         </td> <td>0       </td> <td>nan   </td> <td>specimen</td> <td>0        </td>\n",
       "        </tr>\n",
       "        <tr>\n",
       "            <td>PhysicalObject</td> <td>2015-01-07</td> <td>CCBY   </td> <td>nan         </td> <td>http://vertnet.org/resources/norms.html</td> <td>Australian Museum. Australian Museum provider for OZCAM. ...</td> <td>http://portal.vertnet.org/o/am/ichthyology?id=56660bd1-8 ...</td> <td>nan          </td> <td>nan         </td> <td>nan      </td> <td>AM             </td> <td>Ichthyology   </td> <td>nan        </td> <td>PreservedSpecimen</td> <td>nan                </td> <td>nan                </td> <td>nan              </td> <td>56660bd1-8f30-4955-8e3b-58fe7fce722b</td> <td>I.16250-031  </td> <td>nan         </td> <td>Macquarie University Vertebrate Zoology Class</td> <td>nan            </td> <td>nan </td> <td>nan      </td> <td>nan                  </td> <td>nan     </td> <td>nan               </td> <td>present         </td> <td>nan         </td> <td>nan        </td> <td>nan            </td> <td>nan                 </td> <td>nan                </td> <td>nan           </td> <td>nan                </td> <td>nan              </td> <td>nan       </td> <td>nan         </td> <td>nan          </td> <td>nan                  </td> <td>nan                </td> <td>nan                    </td> <td>nan            </td> <td>nan             </td> <td>urn:australianmuseum.net.au:Events:8031549</td> <td>nan        </td> <td>1972-05-24</td> <td>10:0     </td> <td>145           </td> <td>145         </td> <td>1972</td> <td>5    </td> <td>24  </td> <td>1972-05-24       </td> <td>nan    </td> <td>nan             </td> <td>nan           </td> <td>nan       </td> <td>nan         </td> <td>nan       </td> <td>nan              </td> <td>| Australia | New South Wales |  |  |  |  |</td> <td>Australasia</td> <td>nan      </td> <td>nan        </td> <td>nan   </td> <td>Australia</td> <td>AU         </td> <td>New South Wales</td> <td>nan   </td> <td>nan         </td> <td>nan     </td> <td>Australia | New South Wales</td> <td>nan                     </td> <td>nan                     </td> <td>nan              </td> <td>nan                 </td> <td>nan                 </td> <td>nan          </td> <td>nan                                </td> <td>nan                                </td> <td>nan                </td> <td>ecatalogue.LocCollectionEventLocal: [I.16250] Australia, ...</td> <td>-32.433        </td> <td>152.533         </td> <td>not recorded (forced WGS84)</td> <td>10000                        </td> <td>0.001              </td> <td>nan                </td> <td>nan             </td> <td>nan              </td> <td>nan                     </td> <td>nan        </td> <td>nan         </td> <td>nan         </td> <td>nan            </td> <td>nan              </td> <td>nan                 </td> <td>nan                </td> <td>requires verification         </td> <td>nan                </td> <td>nan                </td> <td>nan                        </td> <td>nan                       </td> <td>nan                       </td> <td>nan                      </td> <td>nan                         </td> <td>nan                        </td> <td>nan                        </td> <td>nan                       </td> <td>nan                     </td> <td>nan                    </td> <td>nan                       </td> <td>nan                        </td> <td>nan                    </td> <td>nan  </td> <td>nan      </td> <td>nan   </td> <td>nan </td> <td>nan             </td> <td>nan                    </td> <td>nan       </td> <td>HOESE, D                                                    </td> <td>1972          </td> <td>nan                     </td> <td>nan                             </td> <td>nan                  </td> <td>nan             </td> <td>nan              </td> <td>Scorpis lineolata       </td> <td>nan              </td> <td>nan              </td> <td>nan            </td> <td>nan                </td> <td>| Chordata |  |  | Kyphosidae | Scorpis                  </td> <td>Animalia</td> <td>Chordata</td> <td>Actinopterygii</td> <td>Perciformes      </td> <td>Kyphosidae    </td> <td>Scorpis     </td> <td>nan     </td> <td>lineolata      </td> <td>nan                 </td> <td>species  </td> <td>nan              </td> <td>nan                     </td> <td>Silver Sweep         </td> <td>ICZN             </td> <td>nan            </td> <td>nan         </td> <td>nan       </td> <td>nan       </td> <td>nan                </td> <td>nan    </td> <td>nan              </td> <td>nan               </td> <td>nan         </td> <td>nan        </td> <td>Australian Museum. Australian Museum provider for OZCAM. ...</td> <td>dce8feb0-6c89-11de-8225-b8a03c50a862</td> <td>770c30d2-c2a8-4bb2-8056-6167297cddae</td> <td>OZCAM.CHAFC@gmail.com</td> <td>OZCAM Webmaster</td> <td>2015-01-07     </td> <td>2016-07-22 </td> <td>2015-01-05      </td> <td>0       </td> <td>0        </td> <td>0         </td> <td>0       </td> <td>nan   </td> <td>specimen</td> <td>0        </td>\n",
       "        </tr>\n",
       "    </tbody>\n",
       "</table>\n",
       "<p>... (42990 rows omitted)</p>"
      ],
      "text/plain": [
       "type           | modified   | license | rightsholder | accessrights                            | bibliographiccitation                                        | references                                                   | institutionid | collectionid | datasetid | institutioncode | collectioncode | datasetname | basisofrecord     | informationwithheld | datageneralizations | dynamicproperties | occurrenceid                         | catalognumber | recordnumber | recordedby                                    | individualcount | sex  | lifestage | reproductivecondition | behavior | establishmentmeans | occurrencestatus | preparations | disposition | associatedmedia | associatedreferences | associatedsequences | associatedtaxa | othercatalognumbers | occurrenceremarks | organismid | organismname | organismscope | associatedoccurrences | associatedorganisms | previousidentifications | organismremarks | materialsampleid | eventid                                    | fieldnumber | eventdate  | eventtime | startdayofyear | enddayofyear | year | month | day  | verbatimeventdate | habitat | samplingprotocol | samplingeffort | fieldnotes | eventremarks | locationid | highergeographyid | highergeography                             | continent   | waterbody | islandgroup | island | country   | countrycode | stateprovince   | county | municipality | locality | verbatimlocality            | minimumelevationinmeters | maximumelevationinmeters | verbatimelevation | minimumdepthinmeters | maximumdepthinmeters | verbatimdepth | minimumdistanceabovesurfaceinmeters | maximumdistanceabovesurfaceinmeters | locationaccordingto | locationremarks                                              | decimallatitude | decimallongitude | geodeticdatum               | coordinateuncertaintyinmeters | coordinateprecision | verbatimcoordinates | verbatimlatitude | verbatimlongitude | verbatimcoordinatesystem | verbatimsrs | footprintwkt | footprintsrs | georeferencedby | georeferenceddate | georeferenceprotocol | georeferencesources | georeferenceverificationstatus | georeferenceremarks | geologicalcontextid | earliesteonorlowesteonothem | latesteonorhighesteonothem | earliesteraorlowesterathem | latesteraorhighesterathem | earliestperiodorlowestsystem | latestperiodorhighestsystem | earliestepochorlowestseries | latestepochorhighestseries | earliestageorloweststage | latestageorhigheststage | lowestbiostratigraphiczone | highestbiostratigraphiczone | lithostratigraphicterms | group | formation | member | bed  | identificationid | identificationqualifier | typestatus | identifiedby                                                 | dateidentified | identificationreferences | identificationverificationstatus | identificationremarks | scientificnameid | namepublishedinid | scientificname           | acceptednameusage | originalnameusage | namepublishedin | namepublishedinyear | higherclassification                                      | kingdom  | phylum   | class          | order             | family         | genus        | subgenus | specificepithet | infraspecificepithet | taxonrank | verbatimtaxonrank | scientificnameauthorship | vernacularname        | nomenclaturalcode | taxonomicstatus | taxonremarks | lengthinmm | lengthtype | lengthunitsinferred | massing | massunitsinferred | underivedlifestage | underivedsex | dataset_url | dataset_citation                                             | gbifdatasetid                        | gbifpublisherid                      | dataset_contact_email | dataset_contact | dataset_pubdate | lastindexed | migrator_version | hasmedia | hastissue | wascaptive | isfossil | isarch | vntype   | haslength\n",
       "PhysicalObject | 2015-01-07 | CCBY    | nan          | http://vertnet.org/resources/norms.html | Australian Museum. Australian Museum provider for OZCAM. ... | http://portal.vertnet.org/o/am/ichthyology?id=056ccd1b-1 ... | nan           | nan          | nan       | AM              | Ichthyology    | nan         | PreservedSpecimen | nan                 | nan                 | nan               | 056ccd1b-1c64-4dfd-a495-0cb0f23cbd4d | I.16250.047   | nan          | Macquarie University Vertebrate Zoology Class | nan             | nan  | nan       | nan                   | nan      | nan                | present          | nan          | nan         | nan             | nan                  | nan                 | nan            | nan                 | nan               | nan        | nan          | nan           | nan                   | nan                 | nan                     | nan             | nan              | urn:australianmuseum.net.au:Events:8031549 | nan         | 1972-05-24 | 10:0      | 145            | 145          | 1972 | 5     | 24   | 1972-05-24        | nan     | nan              | nan            | nan        | nan          | nan        | nan               | | Australia | New South Wales |  |  |  |  | | Australasia | nan       | nan         | nan    | Australia | AU          | New South Wales | nan    | nan          | nan      | Australia | New South Wales | nan                      | nan                      | nan               | nan                  | nan                  | nan           | nan                                 | nan                                 | nan                 | ecatalogue.LocCollectionEventLocal: [I.16250] Australia, ... | -32.433         | 152.533          | not recorded (forced WGS84) | 10000                         | 0.001               | nan                 | nan              | nan               | nan                      | nan         | nan          | nan          | nan             | nan               | nan                  | nan                 | requires verification          | nan                 | nan                 | nan                         | nan                        | nan                        | nan                       | nan                          | nan                         | nan                         | nan                        | nan                      | nan                     | nan                        | nan                         | nan                     | nan   | nan       | nan    | nan  | nan              | nan                     | nan        | nan                                                          | nan            | nan                      | nan                              | nan                   | nan              | nan               | Chironemus marmoratus    | nan               | nan               | nan             | nan                 | | Chordata |  |  | Chironemidae | Chironemus              | Animalia | Chordata | Actinopterygii | Perciformes       | Chironemidae   | Chironemus   | nan      | marmoratus      | nan                  | species   | nan               | nan                      | Eastern Kelpfish      | ICZN              | nan             | nan          | nan        | nan        | nan                 | nan     | nan               | nan                | nan          | nan         | Australian Museum. Australian Museum provider for OZCAM. ... | dce8feb0-6c89-11de-8225-b8a03c50a862 | 770c30d2-c2a8-4bb2-8056-6167297cddae | OZCAM.CHAFC@gmail.com | OZCAM Webmaster | 2015-01-07      | 2016-07-22  | 2015-01-05       | 0        | 0         | 0          | 0        | nan    | specimen | 0\n",
       "PhysicalObject | 2015-01-07 | CCBY    | nan          | http://vertnet.org/resources/norms.html | Australian Museum. Australian Museum provider for OZCAM. ... | http://portal.vertnet.org/o/am/ichthyology?id=059a5328-e ... | nan           | nan          | nan       | AM              | Ichthyology    | nan         | PreservedSpecimen | nan                 | nan                 | nan               | 059a5328-e600-4ef4-b668-0ff975a9a16c | I.16250-024   | nan          | Macquarie University Vertebrate Zoology Class | nan             | nan  | nan       | nan                   | nan      | nan                | present          | nan          | nan         | nan             | nan                  | nan                 | nan            | nan                 | nan               | nan        | nan          | nan           | nan                   | nan                 | nan                     | nan             | nan              | urn:australianmuseum.net.au:Events:8031549 | nan         | 1972-05-24 | 10:0      | 145            | 145          | 1972 | 5     | 24   | 1972-05-24        | nan     | nan              | nan            | nan        | nan          | nan        | nan               | | Australia | New South Wales |  |  |  |  | | Australasia | nan       | nan         | nan    | Australia | AU          | New South Wales | nan    | nan          | nan      | Australia | New South Wales | nan                      | nan                      | nan               | nan                  | nan                  | nan           | nan                                 | nan                                 | nan                 | ecatalogue.LocCollectionEventLocal: [I.16250] Australia, ... | -32.433         | 152.533          | not recorded (forced WGS84) | 10000                         | 0.001               | nan                 | nan              | nan               | nan                      | nan         | nan          | nan          | nan             | nan               | nan                  | nan                 | requires verification          | nan                 | nan                 | nan                         | nan                        | nan                        | nan                       | nan                          | nan                         | nan                         | nan                        | nan                      | nan                     | nan                        | nan                         | nan                     | nan   | nan       | nan    | nan  | nan              | nan                     | nan        | Hutchins, Dr Barry - Western Australian Museum - Departm ... | 1980           | nan                      | nan                              | nan                   | nan              | nan               | Acanthistius cinctus     | nan               | nan               | nan             | nan                 | | Chordata |  |  | Serranidae | Acanthistius              | Animalia | Chordata | Actinopterygii | Perciformes       | Serranidae     | Acanthistius | nan      | cinctus         | nan                  | species   | nan               | nan                      | Girdled Rock Cod      | ICZN              | nan             | nan          | nan        | nan        | nan                 | nan     | nan               | nan                | nan          | nan         | Australian Museum. Australian Museum provider for OZCAM. ... | dce8feb0-6c89-11de-8225-b8a03c50a862 | 770c30d2-c2a8-4bb2-8056-6167297cddae | OZCAM.CHAFC@gmail.com | OZCAM Webmaster | 2015-01-07      | 2016-07-22  | 2015-01-05       | 0        | 0         | 0          | 0        | nan    | specimen | 0\n",
       "PhysicalObject | 2015-01-07 | CCBY    | nan          | http://vertnet.org/resources/norms.html | Australian Museum. Australian Museum provider for OZCAM. ... | http://portal.vertnet.org/o/am/ichthyology?id=13cb1c9f-4 ... | nan           | nan          | nan       | AM              | Ichthyology    | nan         | PreservedSpecimen | nan                 | nan                 | nan               | 13cb1c9f-4702-4490-b306-f26e25ac3899 | I.16250-029   | nan          | Macquarie University Vertebrate Zoology Class | nan             | nan  | nan       | nan                   | nan      | nan                | present          | nan          | nan         | nan             | nan                  | nan                 | nan            | nan                 | nan               | nan        | nan          | nan           | nan                   | nan                 | nan                     | nan             | nan              | urn:australianmuseum.net.au:Events:8031549 | nan         | 1972-05-24 | 10:0      | 145            | 145          | 1972 | 5     | 24   | 1972-05-24        | nan     | nan              | nan            | nan        | nan          | nan        | nan               | | Australia | New South Wales |  |  |  |  | | Australasia | nan       | nan         | nan    | Australia | AU          | New South Wales | nan    | nan          | nan      | Australia | New South Wales | nan                      | nan                      | nan               | nan                  | nan                  | nan           | nan                                 | nan                                 | nan                 | ecatalogue.LocCollectionEventLocal: [I.16250] Australia, ... | -32.433         | 152.533          | not recorded (forced WGS84) | 10000                         | 0.001               | nan                 | nan              | nan               | nan                      | nan         | nan          | nan          | nan             | nan               | nan                  | nan                 | requires verification          | nan                 | nan                 | nan                         | nan                        | nan                        | nan                       | nan                          | nan                         | nan                         | nan                        | nan                      | nan                     | nan                        | nan                         | nan                     | nan   | nan       | nan    | nan  | nan              | nan                     | nan        | HOESE, D                                                     | 1972           | nan                      | nan                              | nan                   | nan              | nan               | Stegastes apicalis       | nan               | nan               | nan             | nan                 | | Chordata |  |  | Pomacentridae | Stegastes              | Animalia | Chordata | Actinopterygii | Perciformes       | Pomacentridae  | Stegastes    | nan      | apicalis        | nan                  | species   | nan               | nan                      | Yellowtip Gregory     | ICZN              | nan             | nan          | nan        | nan        | nan                 | nan     | nan               | nan                | nan          | nan         | Australian Museum. Australian Museum provider for OZCAM. ... | dce8feb0-6c89-11de-8225-b8a03c50a862 | 770c30d2-c2a8-4bb2-8056-6167297cddae | OZCAM.CHAFC@gmail.com | OZCAM Webmaster | 2015-01-07      | 2016-07-22  | 2015-01-05       | 0        | 0         | 0          | 0        | nan    | specimen | 0\n",
       "PhysicalObject | 2015-01-07 | CCBY    | nan          | http://vertnet.org/resources/norms.html | Australian Museum. Australian Museum provider for OZCAM. ... | http://portal.vertnet.org/o/am/ichthyology?id=20f53d0b-b ... | nan           | nan          | nan       | AM              | Ichthyology    | nan         | PreservedSpecimen | nan                 | nan                 | nan               | 20f53d0b-bf06-476f-a90e-221cd8770d2d | I.16250-017   | nan          | Macquarie University Vertebrate Zoology Class | nan             | nan  | nan       | nan                   | nan      | nan                | present          | nan          | nan         | nan             | nan                  | nan                 | nan            | nan                 | nan               | nan        | nan          | nan           | nan                   | nan                 | nan                     | nan             | nan              | urn:australianmuseum.net.au:Events:8031549 | nan         | 1972-05-24 | 10:0      | 145            | 145          | 1972 | 5     | 24   | 1972-05-24        | nan     | nan              | nan            | nan        | nan          | nan        | nan               | | Australia | New South Wales |  |  |  |  | | Australasia | nan       | nan         | nan    | Australia | AU          | New South Wales | nan    | nan          | nan      | Australia | New South Wales | nan                      | nan                      | nan               | nan                  | nan                  | nan           | nan                                 | nan                                 | nan                 | ecatalogue.LocCollectionEventLocal: [I.16250] Australia, ... | -32.433         | 152.533          | not recorded (forced WGS84) | 10000                         | 0.001               | nan                 | nan              | nan               | nan                      | nan         | nan          | nan          | nan             | nan               | nan                  | nan                 | requires verification          | nan                 | nan                 | nan                         | nan                        | nan                        | nan                       | nan                          | nan                         | nan                         | nan                        | nan                      | nan                     | nan                        | nan                         | nan                     | nan   | nan       | nan    | nan  | nan              | nan                     | nan        | Koeda, Keita - University of the Ryukyus - Faculty of Sc ... | 2012-8         | nan                      | nan                              | nan                   | nan              | nan               | Pempheris compressa      | nan               | nan               | nan             | nan                 | | Chordata |  |  | Pempheridae | Pempheris                | Animalia | Chordata | Actinopterygii | Perciformes       | Pempheridae    | Pempheris    | nan      | compressa       | nan                  | species   | nan               | nan                      | Smallscale Bullseye   | ICZN              | nan             | nan          | nan        | nan        | nan                 | nan     | nan               | nan                | nan          | nan         | Australian Museum. Australian Museum provider for OZCAM. ... | dce8feb0-6c89-11de-8225-b8a03c50a862 | 770c30d2-c2a8-4bb2-8056-6167297cddae | OZCAM.CHAFC@gmail.com | OZCAM Webmaster | 2015-01-07      | 2016-07-22  | 2015-01-05       | 0        | 0         | 0          | 0        | nan    | specimen | 0\n",
       "PhysicalObject | 2015-01-07 | CCBY    | nan          | http://vertnet.org/resources/norms.html | Australian Museum. Australian Museum provider for OZCAM. ... | http://portal.vertnet.org/o/am/ichthyology?id=31346343-7 ... | nan           | nan          | nan       | AM              | Ichthyology    | nan         | PreservedSpecimen | nan                 | nan                 | nan               | 31346343-7d4e-4d3a-b44b-62a3b4f211e0 | I.16250-014   | nan          | Macquarie University Vertebrate Zoology Class | nan             | nan  | nan       | nan                   | nan      | nan                | present          | nan          | nan         | nan             | nan                  | nan                 | nan            | nan                 | nan               | nan        | nan          | nan           | nan                   | nan                 | nan                     | nan             | nan              | urn:australianmuseum.net.au:Events:8031549 | nan         | 1972-05-24 | 10:0      | 145            | 145          | 1972 | 5     | 24   | 1972-05-24        | nan     | nan              | nan            | nan        | nan          | nan        | nan               | | Australia | New South Wales |  |  |  |  | | Australasia | nan       | nan         | nan    | Australia | AU          | New South Wales | nan    | nan          | nan      | Australia | New South Wales | nan                      | nan                      | nan               | nan                  | nan                  | nan           | nan                                 | nan                                 | nan                 | ecatalogue.LocCollectionEventLocal: [I.16250] Australia, ... | -32.433         | 152.533          | not recorded (forced WGS84) | 10000                         | 0.001               | nan                 | nan              | nan               | nan                      | nan         | nan          | nan          | nan             | nan               | nan                  | nan                 | requires verification          | nan                 | nan                 | nan                         | nan                        | nan                        | nan                       | nan                          | nan                         | nan                         | nan                        | nan                      | nan                     | nan                        | nan                         | nan                     | nan   | nan       | nan    | nan  | nan              | nan                     | nan        | HOESE, D                                                     | 1972           | nan                      | nan                              | nan                   | nan              | nan               | Pardachirus hedleyi      | nan               | nan               | nan             | nan                 | | Chordata |  |  | Soleidae | Pardachirus                 | Animalia | Chordata | Actinopterygii | Pleuronectiformes | Soleidae       | Pardachirus  | nan      | hedleyi         | nan                  | species   | nan               | nan                      | Southern Peacock Sole | ICZN              | nan             | nan          | nan        | nan        | nan                 | nan     | nan               | nan                | nan          | nan         | Australian Museum. Australian Museum provider for OZCAM. ... | dce8feb0-6c89-11de-8225-b8a03c50a862 | 770c30d2-c2a8-4bb2-8056-6167297cddae | OZCAM.CHAFC@gmail.com | OZCAM Webmaster | 2015-01-07      | 2016-07-22  | 2015-01-05       | 0        | 0         | 0          | 0        | nan    | specimen | 0\n",
       "PhysicalObject | 2015-01-07 | CCBY    | nan          | http://vertnet.org/resources/norms.html | Australian Museum. Australian Museum provider for OZCAM. ... | http://portal.vertnet.org/o/am/ichthyology?id=32b5b940-d ... | nan           | nan          | nan       | AM              | Ichthyology    | nan         | PreservedSpecimen | nan                 | nan                 | nan               | 32b5b940-dbc2-452a-962f-c738ba63fe20 | I.16250-005   | nan          | Macquarie University Vertebrate Zoology Class | nan             | nan  | nan       | nan                   | nan      | nan                | present          | nan          | nan         | nan             | nan                  | nan                 | nan            | nan                 | nan               | nan        | nan          | nan           | nan                   | nan                 | nan                     | nan             | nan              | urn:australianmuseum.net.au:Events:8031549 | nan         | 1972-05-24 | 10:0      | 145            | 145          | 1972 | 5     | 24   | 1972-05-24        | nan     | nan              | nan            | nan        | nan          | nan        | nan               | | Australia | New South Wales |  |  |  |  | | Australasia | nan       | nan         | nan    | Australia | AU          | New South Wales | nan    | nan          | nan      | Australia | New South Wales | nan                      | nan                      | nan               | nan                  | nan                  | nan           | nan                                 | nan                                 | nan                 | ecatalogue.LocCollectionEventLocal: [I.16250] Australia, ... | -32.433         | 152.533          | not recorded (forced WGS84) | 10000                         | 0.001               | nan                 | nan              | nan               | nan                      | nan         | nan          | nan          | nan             | nan               | nan                  | nan                 | requires verification          | nan                 | nan                 | nan                         | nan                        | nan                        | nan                       | nan                          | nan                         | nan                         | nan                        | nan                      | nan                     | nan                        | nan                         | nan                     | nan   | nan       | nan    | nan  | nan              | nan                     | nan        | Hoese, Dr Douglass Fielding - Australian Museum - Ichthy ... | 1972           | nan                      | nan                              | nan                   | nan              | nan               | Centropogon australis    | nan               | nan               | nan             | nan                 | | Chordata |  |  | Scorpaenidae | Centropogon             | Animalia | Chordata | Actinopterygii | Scorpaeniformes   | Scorpaenidae   | Centropogon  | nan      | australis       | nan                  | species   | nan               | nan                      | Southern Fortesque    | ICZN              | nan             | nan          | nan        | nan        | nan                 | nan     | nan               | nan                | nan          | nan         | Australian Museum. Australian Museum provider for OZCAM. ... | dce8feb0-6c89-11de-8225-b8a03c50a862 | 770c30d2-c2a8-4bb2-8056-6167297cddae | OZCAM.CHAFC@gmail.com | OZCAM Webmaster | 2015-01-07      | 2016-07-22  | 2015-01-05       | 0        | 0         | 0          | 0        | nan    | specimen | 0\n",
       "PhysicalObject | 2015-01-07 | CCBY    | nan          | http://vertnet.org/resources/norms.html | Australian Museum. Australian Museum provider for OZCAM. ... | http://portal.vertnet.org/o/am/ichthyology?id=32ec8063-7 ... | nan           | nan          | nan       | AM              | Ichthyology    | nan         | PreservedSpecimen | nan                 | nan                 | nan               | 32ec8063-7ffd-4e50-9588-6ac154944473 | I.16250-026   | nan          | Macquarie University Vertebrate Zoology Class | nan             | nan  | nan       | nan                   | nan      | nan                | present          | nan          | nan         | nan             | nan                  | nan                 | nan            | nan                 | nan               | nan        | nan          | nan           | nan                   | nan                 | nan                     | nan             | nan              | urn:australianmuseum.net.au:Events:8031549 | nan         | 1972-05-24 | 10:0      | 145            | 145          | 1972 | 5     | 24   | 1972-05-24        | nan     | nan              | nan            | nan        | nan          | nan        | nan               | | Australia | New South Wales |  |  |  |  | | Australasia | nan       | nan         | nan    | Australia | AU          | New South Wales | nan    | nan          | nan      | Australia | New South Wales | nan                      | nan                      | nan               | nan                  | nan                  | nan           | nan                                 | nan                                 | nan                 | ecatalogue.LocCollectionEventLocal: [I.16250] Australia, ... | -32.433         | 152.533          | not recorded (forced WGS84) | 10000                         | 0.001               | nan                 | nan              | nan               | nan                      | nan         | nan          | nan          | nan             | nan               | nan                  | nan                 | requires verification          | nan                 | nan                 | nan                         | nan                        | nan                        | nan                       | nan                          | nan                         | nan                         | nan                        | nan                      | nan                     | nan                        | nan                         | nan                     | nan   | nan       | nan    | nan  | nan              | nan                     | nan        | Bohlke & McCosker                                            | 2000           | nan                      | nan                              | nan                   | nan              | nan               | Gymnothorax prasinus     | nan               | nan               | nan             | nan                 | | Chordata |  | Anguilliformes | Muraenidae | Gymnothorax | Animalia | Chordata | Actinopterygii | Anguilliformes    | Muraenidae     | Gymnothorax  | nan      | prasinus        | nan                  | species   | nan               | nan                      | Pettifogger           | ICZN              | nan             | nan          | nan        | nan        | nan                 | nan     | nan               | nan                | nan          | nan         | Australian Museum. Australian Museum provider for OZCAM. ... | dce8feb0-6c89-11de-8225-b8a03c50a862 | 770c30d2-c2a8-4bb2-8056-6167297cddae | OZCAM.CHAFC@gmail.com | OZCAM Webmaster | 2015-01-07      | 2016-07-22  | 2015-01-05       | 0        | 0         | 0          | 0        | nan    | specimen | 0\n",
       "PhysicalObject | 2015-01-07 | CCBY    | nan          | http://vertnet.org/resources/norms.html | Australian Museum. Australian Museum provider for OZCAM. ... | http://portal.vertnet.org/o/am/ichthyology?id=33e50e5f-2 ... | nan           | nan          | nan       | AM              | Ichthyology    | nan         | PreservedSpecimen | nan                 | nan                 | nan               | 33e50e5f-246e-4a4a-90e7-686f3eaa7c51 | I.16250-041   | nan          | Macquarie University Vertebrate Zoology Class | nan             | nan  | nan       | nan                   | nan      | nan                | present          | nan          | nan         | nan             | nan                  | nan                 | nan            | nan                 | nan               | nan        | nan          | nan           | nan                   | nan                 | nan                     | nan             | nan              | urn:australianmuseum.net.au:Events:8031549 | nan         | 1972-05-24 | 10:0      | 145            | 145          | 1972 | 5     | 24   | 1972-05-24        | nan     | nan              | nan            | nan        | nan          | nan        | nan               | | Australia | New South Wales |  |  |  |  | | Australasia | nan       | nan         | nan    | Australia | AU          | New South Wales | nan    | nan          | nan      | Australia | New South Wales | nan                      | nan                      | nan               | nan                  | nan                  | nan           | nan                                 | nan                                 | nan                 | ecatalogue.LocCollectionEventLocal: [I.16250] Australia, ... | -32.433         | 152.533          | not recorded (forced WGS84) | 10000                         | 0.001               | nan                 | nan              | nan               | nan                      | nan         | nan          | nan          | nan             | nan               | nan                  | nan                 | requires verification          | nan                 | nan                 | nan                         | nan                        | nan                        | nan                       | nan                          | nan                         | nan                         | nan                        | nan                      | nan                     | nan                        | nan                         | nan                     | nan   | nan       | nan    | nan  | nan              | nan                     | nan        | nan                                                          | nan            | nan                      | nan                              | nan                   | nan              | nan               | Tetractenos hamiltoni    | nan               | nan               | nan             | nan                 | | Chordata |  |  | Tetraodontidae | Tetractenos           | Animalia | Chordata | Actinopterygii | Tetraodontiformes | Tetraodontidae | Tetractenos  | nan      | hamiltoni       | nan                  | species   | nan               | nan                      | Common Toadfish       | ICZN              | nan             | nan          | nan        | nan        | nan                 | nan     | nan               | nan                | nan          | nan         | Australian Museum. Australian Museum provider for OZCAM. ... | dce8feb0-6c89-11de-8225-b8a03c50a862 | 770c30d2-c2a8-4bb2-8056-6167297cddae | OZCAM.CHAFC@gmail.com | OZCAM Webmaster | 2015-01-07      | 2016-07-22  | 2015-01-05       | 0        | 0         | 0          | 0        | nan    | specimen | 0\n",
       "PhysicalObject | 2015-01-07 | CCBY    | nan          | http://vertnet.org/resources/norms.html | Australian Museum. Australian Museum provider for OZCAM. ... | http://portal.vertnet.org/o/am/ichthyology?id=3657e5a7-2 ... | nan           | nan          | nan       | AM              | Ichthyology    | nan         | PreservedSpecimen | nan                 | nan                 | nan               | 3657e5a7-26bf-417c-b709-55ac121501c5 | I.16250-018   | nan          | Macquarie University Vertebrate Zoology Class | nan             | nan  | nan       | nan                   | nan      | nan                | present          | nan          | nan         | nan             | nan                  | nan                 | nan            | nan                 | nan               | nan        | nan          | nan           | nan                   | nan                 | nan                     | nan             | nan              | urn:australianmuseum.net.au:Events:8031549 | nan         | 1972-05-24 | 10:0      | 145            | 145          | 1972 | 5     | 24   | 1972-05-24        | nan     | nan              | nan            | nan        | nan          | nan        | nan               | | Australia | New South Wales |  |  |  |  | | Australasia | nan       | nan         | nan    | Australia | AU          | New South Wales | nan    | nan          | nan      | Australia | New South Wales | nan                      | nan                      | nan               | nan                  | nan                  | nan           | nan                                 | nan                                 | nan                 | ecatalogue.LocCollectionEventLocal: [I.16250] Australia, ... | -32.433         | 152.533          | not recorded (forced WGS84) | 10000                         | 0.001               | nan                 | nan              | nan               | nan                      | nan         | nan          | nan          | nan             | nan               | nan                  | nan                 | requires verification          | nan                 | nan                 | nan                         | nan                        | nan                        | nan                       | nan                          | nan                         | nan                         | nan                        | nan                      | nan                     | nan                        | nan                         | nan                     | nan   | nan       | nan    | nan  | nan              | nan                     | nan        | Rennis, Ms Denise                                            | 1983           | nan                      | nan                              | nan                   | nan              | nan               | Heteroclinus whiteleggii | nan               | nan               | nan             | nan                 | | Chordata |  |  | Clinidae | Heteroclinus                | Animalia | Chordata | Actinopterygii | Perciformes       | Clinidae       | Heteroclinus | nan      | whiteleggii     | nan                  | species   | nan               | nan                      | Banded Weedfish       | ICZN              | nan             | nan          | nan        | nan        | nan                 | nan     | nan               | nan                | nan          | nan         | Australian Museum. Australian Museum provider for OZCAM. ... | dce8feb0-6c89-11de-8225-b8a03c50a862 | 770c30d2-c2a8-4bb2-8056-6167297cddae | OZCAM.CHAFC@gmail.com | OZCAM Webmaster | 2015-01-07      | 2016-07-22  | 2015-01-05       | 0        | 0         | 0          | 0        | nan    | specimen | 0\n",
       "PhysicalObject | 2015-01-07 | CCBY    | nan          | http://vertnet.org/resources/norms.html | Australian Museum. Australian Museum provider for OZCAM. ... | http://portal.vertnet.org/o/am/ichthyology?id=56660bd1-8 ... | nan           | nan          | nan       | AM              | Ichthyology    | nan         | PreservedSpecimen | nan                 | nan                 | nan               | 56660bd1-8f30-4955-8e3b-58fe7fce722b | I.16250-031   | nan          | Macquarie University Vertebrate Zoology Class | nan             | nan  | nan       | nan                   | nan      | nan                | present          | nan          | nan         | nan             | nan                  | nan                 | nan            | nan                 | nan               | nan        | nan          | nan           | nan                   | nan                 | nan                     | nan             | nan              | urn:australianmuseum.net.au:Events:8031549 | nan         | 1972-05-24 | 10:0      | 145            | 145          | 1972 | 5     | 24   | 1972-05-24        | nan     | nan              | nan            | nan        | nan          | nan        | nan               | | Australia | New South Wales |  |  |  |  | | Australasia | nan       | nan         | nan    | Australia | AU          | New South Wales | nan    | nan          | nan      | Australia | New South Wales | nan                      | nan                      | nan               | nan                  | nan                  | nan           | nan                                 | nan                                 | nan                 | ecatalogue.LocCollectionEventLocal: [I.16250] Australia, ... | -32.433         | 152.533          | not recorded (forced WGS84) | 10000                         | 0.001               | nan                 | nan              | nan               | nan                      | nan         | nan          | nan          | nan             | nan               | nan                  | nan                 | requires verification          | nan                 | nan                 | nan                         | nan                        | nan                        | nan                       | nan                          | nan                         | nan                         | nan                        | nan                      | nan                     | nan                        | nan                         | nan                     | nan   | nan       | nan    | nan  | nan              | nan                     | nan        | HOESE, D                                                     | 1972           | nan                      | nan                              | nan                   | nan              | nan               | Scorpis lineolata        | nan               | nan               | nan             | nan                 | | Chordata |  |  | Kyphosidae | Scorpis                   | Animalia | Chordata | Actinopterygii | Perciformes       | Kyphosidae     | Scorpis      | nan      | lineolata       | nan                  | species   | nan               | nan                      | Silver Sweep          | ICZN              | nan             | nan          | nan        | nan        | nan                 | nan     | nan               | nan                | nan          | nan         | Australian Museum. Australian Museum provider for OZCAM. ... | dce8feb0-6c89-11de-8225-b8a03c50a862 | 770c30d2-c2a8-4bb2-8056-6167297cddae | OZCAM.CHAFC@gmail.com | OZCAM Webmaster | 2015-01-07      | 2016-07-22  | 2015-01-05       | 0        | 0         | 0          | 0        | nan    | specimen | 0\n",
       "... (42990 rows omitted)"
      ]
     },
     "execution_count": 4,
     "metadata": {},
     "output_type": "execute_result"
    }
   ],
   "source": [
    "Vertebrates=Table.read_table(\"../data/Vertebrates.txt\")\n",
    "Vertebrates"
   ]
  },
  {
   "cell_type": "code",
   "execution_count": 32,
   "metadata": {
    "scrolled": true
   },
   "outputs": [],
   "source": [
    "cleaned_vertebrates=Vertebrates.drop(range(44))"
   ]
  },
  {
   "cell_type": "markdown",
   "metadata": {},
   "source": [
    "Looking through the table, we can see a few columns that are empty (have a 'nan' value) and some columns that are good references by not necessary if we are interested in the data iteself. Lets select the columns with data of interest."
   ]
  },
  {
   "cell_type": "code",
   "execution_count": 14,
   "metadata": {},
   "outputs": [],
   "source": [
    "Dates_collected=Vertebrates.select(\"eventdate\", \"year\", \"month\", \"day\" ).group(\"year\")"
   ]
  },
  {
   "cell_type": "code",
   "execution_count": 20,
   "metadata": {},
   "outputs": [
    {
     "data": {
      "image/png": "[encoded data removed]",
      "text/plain": [
       "<Figure size 432x288 with 1 Axes>"
      ]
     },
     "metadata": {},
     "output_type": "display_data"
    }
   ],
   "source": [
    "import matplotlib.pyplot as plt\n",
    "%matplotlib inline\n",
    "\n",
    "Dates_collected.plot(\"year\")"
   ]
  },
  {
   "cell_type": "markdown",
   "metadata": {},
   "source": [
    "As we can see from the graph, a large amount of the records were collected before 2000"
   ]
  },
  {
   "cell_type": "code",
   "execution_count": 23,
   "metadata": {
    "scrolled": true
   },
   "outputs": [
    {
     "data": {
      "text/html": [
       "<table border=\"1\" class=\"dataframe\">\n",
       "    <thead>\n",
       "        <tr>\n",
       "            <th>country</th> <th>stateprovince</th> <th>decimallatitude</th> <th>decimallongitude</th>\n",
       "        </tr>\n",
       "    </thead>\n",
       "    <tbody>\n",
       "        <tr>\n",
       "            <td>Australia</td> <td>New South Wales</td> <td>-32.433        </td> <td>152.533         </td>\n",
       "        </tr>\n",
       "        <tr>\n",
       "            <td>Australia</td> <td>New South Wales</td> <td>-32.433        </td> <td>152.533         </td>\n",
       "        </tr>\n",
       "        <tr>\n",
       "            <td>Australia</td> <td>New South Wales</td> <td>-32.433        </td> <td>152.533         </td>\n",
       "        </tr>\n",
       "        <tr>\n",
       "            <td>Australia</td> <td>New South Wales</td> <td>-32.433        </td> <td>152.533         </td>\n",
       "        </tr>\n",
       "        <tr>\n",
       "            <td>Australia</td> <td>New South Wales</td> <td>-32.433        </td> <td>152.533         </td>\n",
       "        </tr>\n",
       "        <tr>\n",
       "            <td>Australia</td> <td>New South Wales</td> <td>-32.433        </td> <td>152.533         </td>\n",
       "        </tr>\n",
       "        <tr>\n",
       "            <td>Australia</td> <td>New South Wales</td> <td>-32.433        </td> <td>152.533         </td>\n",
       "        </tr>\n",
       "        <tr>\n",
       "            <td>Australia</td> <td>New South Wales</td> <td>-32.433        </td> <td>152.533         </td>\n",
       "        </tr>\n",
       "        <tr>\n",
       "            <td>Australia</td> <td>New South Wales</td> <td>-32.433        </td> <td>152.533         </td>\n",
       "        </tr>\n",
       "        <tr>\n",
       "            <td>Australia</td> <td>New South Wales</td> <td>-32.433        </td> <td>152.533         </td>\n",
       "        </tr>\n",
       "    </tbody>\n",
       "</table>\n",
       "<p>... (42990 rows omitted)</p>"
      ],
      "text/plain": [
       "country   | stateprovince   | decimallatitude | decimallongitude\n",
       "Australia | New South Wales | -32.433         | 152.533\n",
       "Australia | New South Wales | -32.433         | 152.533\n",
       "Australia | New South Wales | -32.433         | 152.533\n",
       "Australia | New South Wales | -32.433         | 152.533\n",
       "Australia | New South Wales | -32.433         | 152.533\n",
       "Australia | New South Wales | -32.433         | 152.533\n",
       "Australia | New South Wales | -32.433         | 152.533\n",
       "Australia | New South Wales | -32.433         | 152.533\n",
       "Australia | New South Wales | -32.433         | 152.533\n",
       "Australia | New South Wales | -32.433         | 152.533\n",
       "... (42990 rows omitted)"
      ]
     },
     "execution_count": 23,
     "metadata": {},
     "output_type": "execute_result"
    }
   ],
   "source": [
    "sample_locations=Vertebrates.select(\"country\", \"stateprovince\", \"decimallatitude\", \"decimallongitude\")\n",
    "sample_locations"
   ]
  },
  {
   "cell_type": "code",
   "execution_count": 31,
   "metadata": {},
   "outputs": [
    {
     "data": {
      "text/html": [
       "<table border=\"1\" class=\"dataframe\">\n",
       "    <thead>\n",
       "        <tr>\n",
       "            <th>decimallatitude</th> <th>decimallongitude</th> <th>count</th>\n",
       "        </tr>\n",
       "    </thead>\n",
       "    <tbody>\n",
       "        <tr>\n",
       "            <td>-43.0007       </td> <td>147.328         </td> <td>1    </td>\n",
       "        </tr>\n",
       "        <tr>\n",
       "            <td>-42.4325       </td> <td>173.685         </td> <td>1    </td>\n",
       "        </tr>\n",
       "        <tr>\n",
       "            <td>-41.2329       </td> <td>175.159         </td> <td>1    </td>\n",
       "        </tr>\n",
       "        <tr>\n",
       "            <td>-40.9855       </td> <td>174.951         </td> <td>1    </td>\n",
       "        </tr>\n",
       "        <tr>\n",
       "            <td>-38.5076       </td> <td>145.244         </td> <td>1    </td>\n",
       "        </tr>\n",
       "        <tr>\n",
       "            <td>-38.466        </td> <td>145.31          </td> <td>3    </td>\n",
       "        </tr>\n",
       "        <tr>\n",
       "            <td>-38.3631       </td> <td>145.27          </td> <td>1    </td>\n",
       "        </tr>\n",
       "        <tr>\n",
       "            <td>-37.839        </td> <td>146.275         </td> <td>8    </td>\n",
       "        </tr>\n",
       "        <tr>\n",
       "            <td>-37.1753       </td> <td>146.312         </td> <td>1    </td>\n",
       "        </tr>\n",
       "        <tr>\n",
       "            <td>-37.0627       </td> <td>149.903         </td> <td>1    </td>\n",
       "        </tr>\n",
       "    </tbody>\n",
       "</table>\n",
       "<p>... (10836 rows omitted)</p>"
      ],
      "text/plain": [
       "decimallatitude | decimallongitude | count\n",
       "-43.0007        | 147.328          | 1\n",
       "-42.4325        | 173.685          | 1\n",
       "-41.2329        | 175.159          | 1\n",
       "-40.9855        | 174.951          | 1\n",
       "-38.5076        | 145.244          | 1\n",
       "-38.466         | 145.31           | 3\n",
       "-38.3631        | 145.27           | 1\n",
       "-37.839         | 146.275          | 8\n",
       "-37.1753        | 146.312          | 1\n",
       "-37.0627        | 149.903          | 1\n",
       "... (10836 rows omitted)"
      ]
     },
     "execution_count": 31,
     "metadata": {},
     "output_type": "execute_result"
    }
   ],
   "source": [
    "sample_locations.group([2,3])"
   ]
  },
  {
   "cell_type": "code",
   "execution_count": 29,
   "metadata": {},
   "outputs": [
    {
     "data": {
      "text/html": [
       "<table border=\"1\" class=\"dataframe\">\n",
       "    <thead>\n",
       "        <tr>\n",
       "            <th>scientificname</th> <th>kingdom</th> <th>phylum</th> <th>class</th> <th>order</th> <th>family</th> <th>genus</th> <th>subgenus</th> <th>specificepithet</th> <th>taxonrank</th> <th>vernacularname</th>\n",
       "        </tr>\n",
       "    </thead>\n",
       "    <tbody>\n",
       "        <tr>\n",
       "            <td>Chironemus marmoratus   </td> <td>Animalia</td> <td>Chordata</td> <td>Actinopterygii</td> <td>Perciformes      </td> <td>Chironemidae  </td> <td>Chironemus  </td> <td>nan     </td> <td>marmoratus     </td> <td>species  </td> <td>Eastern Kelpfish     </td>\n",
       "        </tr>\n",
       "        <tr>\n",
       "            <td>Acanthistius cinctus    </td> <td>Animalia</td> <td>Chordata</td> <td>Actinopterygii</td> <td>Perciformes      </td> <td>Serranidae    </td> <td>Acanthistius</td> <td>nan     </td> <td>cinctus        </td> <td>species  </td> <td>Girdled Rock Cod     </td>\n",
       "        </tr>\n",
       "        <tr>\n",
       "            <td>Stegastes apicalis      </td> <td>Animalia</td> <td>Chordata</td> <td>Actinopterygii</td> <td>Perciformes      </td> <td>Pomacentridae </td> <td>Stegastes   </td> <td>nan     </td> <td>apicalis       </td> <td>species  </td> <td>Yellowtip Gregory    </td>\n",
       "        </tr>\n",
       "        <tr>\n",
       "            <td>Pempheris compressa     </td> <td>Animalia</td> <td>Chordata</td> <td>Actinopterygii</td> <td>Perciformes      </td> <td>Pempheridae   </td> <td>Pempheris   </td> <td>nan     </td> <td>compressa      </td> <td>species  </td> <td>Smallscale Bullseye  </td>\n",
       "        </tr>\n",
       "        <tr>\n",
       "            <td>Pardachirus hedleyi     </td> <td>Animalia</td> <td>Chordata</td> <td>Actinopterygii</td> <td>Pleuronectiformes</td> <td>Soleidae      </td> <td>Pardachirus </td> <td>nan     </td> <td>hedleyi        </td> <td>species  </td> <td>Southern Peacock Sole</td>\n",
       "        </tr>\n",
       "        <tr>\n",
       "            <td>Centropogon australis   </td> <td>Animalia</td> <td>Chordata</td> <td>Actinopterygii</td> <td>Scorpaeniformes  </td> <td>Scorpaenidae  </td> <td>Centropogon </td> <td>nan     </td> <td>australis      </td> <td>species  </td> <td>Southern Fortesque   </td>\n",
       "        </tr>\n",
       "        <tr>\n",
       "            <td>Gymnothorax prasinus    </td> <td>Animalia</td> <td>Chordata</td> <td>Actinopterygii</td> <td>Anguilliformes   </td> <td>Muraenidae    </td> <td>Gymnothorax </td> <td>nan     </td> <td>prasinus       </td> <td>species  </td> <td>Pettifogger          </td>\n",
       "        </tr>\n",
       "        <tr>\n",
       "            <td>Tetractenos hamiltoni   </td> <td>Animalia</td> <td>Chordata</td> <td>Actinopterygii</td> <td>Tetraodontiformes</td> <td>Tetraodontidae</td> <td>Tetractenos </td> <td>nan     </td> <td>hamiltoni      </td> <td>species  </td> <td>Common Toadfish      </td>\n",
       "        </tr>\n",
       "        <tr>\n",
       "            <td>Heteroclinus whiteleggii</td> <td>Animalia</td> <td>Chordata</td> <td>Actinopterygii</td> <td>Perciformes      </td> <td>Clinidae      </td> <td>Heteroclinus</td> <td>nan     </td> <td>whiteleggii    </td> <td>species  </td> <td>Banded Weedfish      </td>\n",
       "        </tr>\n",
       "        <tr>\n",
       "            <td>Scorpis lineolata       </td> <td>Animalia</td> <td>Chordata</td> <td>Actinopterygii</td> <td>Perciformes      </td> <td>Kyphosidae    </td> <td>Scorpis     </td> <td>nan     </td> <td>lineolata      </td> <td>species  </td> <td>Silver Sweep         </td>\n",
       "        </tr>\n",
       "    </tbody>\n",
       "</table>\n",
       "<p>... (42990 rows omitted)</p>"
      ],
      "text/plain": [
       "scientificname           | kingdom  | phylum   | class          | order             | family         | genus        | subgenus | specificepithet | taxonrank | vernacularname\n",
       "Chironemus marmoratus    | Animalia | Chordata | Actinopterygii | Perciformes       | Chironemidae   | Chironemus   | nan      | marmoratus      | species   | Eastern Kelpfish\n",
       "Acanthistius cinctus     | Animalia | Chordata | Actinopterygii | Perciformes       | Serranidae     | Acanthistius | nan      | cinctus         | species   | Girdled Rock Cod\n",
       "Stegastes apicalis       | Animalia | Chordata | Actinopterygii | Perciformes       | Pomacentridae  | Stegastes    | nan      | apicalis        | species   | Yellowtip Gregory\n",
       "Pempheris compressa      | Animalia | Chordata | Actinopterygii | Perciformes       | Pempheridae    | Pempheris    | nan      | compressa       | species   | Smallscale Bullseye\n",
       "Pardachirus hedleyi      | Animalia | Chordata | Actinopterygii | Pleuronectiformes | Soleidae       | Pardachirus  | nan      | hedleyi         | species   | Southern Peacock Sole\n",
       "Centropogon australis    | Animalia | Chordata | Actinopterygii | Scorpaeniformes   | Scorpaenidae   | Centropogon  | nan      | australis       | species   | Southern Fortesque\n",
       "Gymnothorax prasinus     | Animalia | Chordata | Actinopterygii | Anguilliformes    | Muraenidae     | Gymnothorax  | nan      | prasinus        | species   | Pettifogger\n",
       "Tetractenos hamiltoni    | Animalia | Chordata | Actinopterygii | Tetraodontiformes | Tetraodontidae | Tetractenos  | nan      | hamiltoni       | species   | Common Toadfish\n",
       "Heteroclinus whiteleggii | Animalia | Chordata | Actinopterygii | Perciformes       | Clinidae       | Heteroclinus | nan      | whiteleggii     | species   | Banded Weedfish\n",
       "Scorpis lineolata        | Animalia | Chordata | Actinopterygii | Perciformes       | Kyphosidae     | Scorpis      | nan      | lineolata       | species   | Silver Sweep\n",
       "... (42990 rows omitted)"
      ]
     },
     "execution_count": 29,
     "metadata": {},
     "output_type": "execute_result"
    }
   ],
   "source": [
    "record_taxonomy=Vertebrates.select(\"scientificname\", \"kingdom\", \"phylum\", \"class\", \"order\", \"family\", \"genus\", \n",
    "                                   \"subgenus\", \"specificepithet\", \"taxonrank\", \"vernacularname\")\n",
    "record_taxonomy"
   ]
  },
  {
   "cell_type": "code",
   "execution_count": null,
   "metadata": {},
   "outputs": [],
   "source": []
  },
  {
   "cell_type": "code",
   "execution_count": 30,
   "metadata": {},
   "outputs": [
    {
     "data": {
      "text/html": [
       "<table border=\"1\" class=\"dataframe\">\n",
       "    <thead>\n",
       "        <tr>\n",
       "            <th>phylum</th> <th>count</th>\n",
       "        </tr>\n",
       "    </thead>\n",
       "    <tbody>\n",
       "        <tr>\n",
       "            <td>Agelaius phoeniceus nevadensis</td> <td>1    </td>\n",
       "        </tr>\n",
       "        <tr>\n",
       "            <td>Chordata                      </td> <td>42993</td>\n",
       "        </tr>\n",
       "        <tr>\n",
       "            <td>Ochotona princeps tutelata    </td> <td>1    </td>\n",
       "        </tr>\n",
       "        <tr>\n",
       "            <td>Sitta carolinensis nelsoni    </td> <td>1    </td>\n",
       "        </tr>\n",
       "        <tr>\n",
       "            <td>Sitta pygmaea pygmaea         </td> <td>1    </td>\n",
       "        </tr>\n",
       "        <tr>\n",
       "            <td>Spilogale putorius tenuis     </td> <td>3    </td>\n",
       "        </tr>\n",
       "    </tbody>\n",
       "</table>"
      ],
      "text/plain": [
       "phylum                         | count\n",
       "Agelaius phoeniceus nevadensis | 1\n",
       "Chordata                       | 42993\n",
       "Ochotona princeps tutelata     | 1\n",
       "Sitta carolinensis nelsoni     | 1\n",
       "Sitta pygmaea pygmaea          | 1\n",
       "Spilogale putorius tenuis      | 3"
      ]
     },
     "execution_count": 30,
     "metadata": {},
     "output_type": "execute_result"
    }
   ],
   "source": [
    "Vertebrates.group(\"phylum\")"
   ]
  },
  {
   "cell_type": "markdown",
   "metadata": {},
   "source": [
    "Since we are looking at Vertebrates, we expected only see data containing organisms that are in the Chordata phylum. It seems the species name was placed into the phylum column on accident."
   ]
  },
  {
   "cell_type": "code",
   "execution_count": 31,
   "metadata": {},
   "outputs": [
    {
     "data": {
      "text/html": [
       "<table border=\"1\" class=\"dataframe\">\n",
       "    <thead>\n",
       "        <tr>\n",
       "            <th>class</th> <th>count</th>\n",
       "        </tr>\n",
       "    </thead>\n",
       "    <tbody>\n",
       "        <tr>\n",
       "            <td>Actinopteri       </td> <td>5    </td>\n",
       "        </tr>\n",
       "        <tr>\n",
       "            <td>Actinopterygii    </td> <td>8206 </td>\n",
       "        </tr>\n",
       "        <tr>\n",
       "            <td>Amphibia          </td> <td>6585 </td>\n",
       "        </tr>\n",
       "        <tr>\n",
       "            <td>Aves              </td> <td>17960</td>\n",
       "        </tr>\n",
       "        <tr>\n",
       "            <td>Carnivora         </td> <td>3    </td>\n",
       "        </tr>\n",
       "        <tr>\n",
       "            <td>Cephalaspidomorphi</td> <td>13   </td>\n",
       "        </tr>\n",
       "        <tr>\n",
       "            <td>Elasmobranchii    </td> <td>296  </td>\n",
       "        </tr>\n",
       "        <tr>\n",
       "            <td>Holocephali       </td> <td>13   </td>\n",
       "        </tr>\n",
       "        <tr>\n",
       "            <td>Lagomorpha        </td> <td>1    </td>\n",
       "        </tr>\n",
       "        <tr>\n",
       "            <td>Leptocardii       </td> <td>4    </td>\n",
       "        </tr>\n",
       "        <tr>\n",
       "            <td>Mammalia          </td> <td>166  </td>\n",
       "        </tr>\n",
       "        <tr>\n",
       "            <td>Passeriformes     </td> <td>3    </td>\n",
       "        </tr>\n",
       "        <tr>\n",
       "            <td>Reptilia          </td> <td>9745 </td>\n",
       "        </tr>\n",
       "    </tbody>\n",
       "</table>"
      ],
      "text/plain": [
       "<IPython.core.display.HTML object>"
      ]
     },
     "metadata": {},
     "output_type": "display_data"
    }
   ],
   "source": [
    "Vertebrates.group(\"class\").show()"
   ]
  },
  {
   "cell_type": "markdown",
   "metadata": {},
   "source": [
    "It seems the subclass of the organism were inserted into this column"
   ]
  },
  {
   "cell_type": "code",
   "execution_count": 35,
   "metadata": {},
   "outputs": [
    {
     "data": {
      "text/html": [
       "<table border=\"1\" class=\"dataframe\">\n",
       "    <thead>\n",
       "        <tr>\n",
       "            <th>order</th> <th>count</th>\n",
       "        </tr>\n",
       "    </thead>\n",
       "    <tbody>\n",
       "        <tr>\n",
       "            <td>Accipitriformes     </td> <td>450  </td>\n",
       "        </tr>\n",
       "        <tr>\n",
       "            <td>Acipenseriformes    </td> <td>3    </td>\n",
       "        </tr>\n",
       "        <tr>\n",
       "            <td>Albuliformes        </td> <td>8    </td>\n",
       "        </tr>\n",
       "        <tr>\n",
       "            <td>Amiiformes          </td> <td>4    </td>\n",
       "        </tr>\n",
       "        <tr>\n",
       "            <td>Amphioxiformes      </td> <td>4    </td>\n",
       "        </tr>\n",
       "        <tr>\n",
       "            <td>Anguilliformes      </td> <td>112  </td>\n",
       "        </tr>\n",
       "        <tr>\n",
       "            <td>Anseriformes        </td> <td>674  </td>\n",
       "        </tr>\n",
       "        <tr>\n",
       "            <td>Anura               </td> <td>4219 </td>\n",
       "        </tr>\n",
       "        <tr>\n",
       "            <td>Apodiformes         </td> <td>578  </td>\n",
       "        </tr>\n",
       "        <tr>\n",
       "            <td>Artiodactyla        </td> <td>3    </td>\n",
       "        </tr>\n",
       "        <tr>\n",
       "            <td>Atheriniformes      </td> <td>116  </td>\n",
       "        </tr>\n",
       "        <tr>\n",
       "            <td>Aulopiformes        </td> <td>31   </td>\n",
       "        </tr>\n",
       "        <tr>\n",
       "            <td>Batrachoidiformes   </td> <td>52   </td>\n",
       "        </tr>\n",
       "        <tr>\n",
       "            <td>Beloniformes        </td> <td>67   </td>\n",
       "        </tr>\n",
       "        <tr>\n",
       "            <td>Beryciformes        </td> <td>61   </td>\n",
       "        </tr>\n",
       "        <tr>\n",
       "            <td>Caprimulgiformes    </td> <td>111  </td>\n",
       "        </tr>\n",
       "        <tr>\n",
       "            <td>Carcharhiniformes   </td> <td>99   </td>\n",
       "        </tr>\n",
       "        <tr>\n",
       "            <td>Carnivora           </td> <td>4    </td>\n",
       "        </tr>\n",
       "        <tr>\n",
       "            <td>Casuariiformes      </td> <td>1    </td>\n",
       "        </tr>\n",
       "        <tr>\n",
       "            <td>Caudata             </td> <td>2360 </td>\n",
       "        </tr>\n",
       "        <tr>\n",
       "            <td>Characiformes       </td> <td>298  </td>\n",
       "        </tr>\n",
       "        <tr>\n",
       "            <td>Charadriiformes     </td> <td>2631 </td>\n",
       "        </tr>\n",
       "        <tr>\n",
       "            <td>Chimaeriformes      </td> <td>13   </td>\n",
       "        </tr>\n",
       "        <tr>\n",
       "            <td>Chordata            </td> <td>7    </td>\n",
       "        </tr>\n",
       "        <tr>\n",
       "            <td>Ciconiiformes       </td> <td>2    </td>\n",
       "        </tr>\n",
       "        <tr>\n",
       "            <td>Clupeiformes        </td> <td>234  </td>\n",
       "        </tr>\n",
       "        <tr>\n",
       "            <td>Columbiformes       </td> <td>164  </td>\n",
       "        </tr>\n",
       "        <tr>\n",
       "            <td>Coraciiformes       </td> <td>32   </td>\n",
       "        </tr>\n",
       "        <tr>\n",
       "            <td>Crocodylia          </td> <td>7    </td>\n",
       "        </tr>\n",
       "        <tr>\n",
       "            <td>Cuculiformes        </td> <td>36   </td>\n",
       "        </tr>\n",
       "        <tr>\n",
       "            <td>Cypriniformes       </td> <td>268  </td>\n",
       "        </tr>\n",
       "        <tr>\n",
       "            <td>Cyprinodontiformes  </td> <td>157  </td>\n",
       "        </tr>\n",
       "        <tr>\n",
       "            <td>Elopiformes         </td> <td>3    </td>\n",
       "        </tr>\n",
       "        <tr>\n",
       "            <td>Esociformes         </td> <td>10   </td>\n",
       "        </tr>\n",
       "        <tr>\n",
       "            <td>Falconiformes       </td> <td>197  </td>\n",
       "        </tr>\n",
       "        <tr>\n",
       "            <td>Gadiformes          </td> <td>45   </td>\n",
       "        </tr>\n",
       "        <tr>\n",
       "            <td>Galliformes         </td> <td>410  </td>\n",
       "        </tr>\n",
       "        <tr>\n",
       "            <td>Gasterosteiformes   </td> <td>143  </td>\n",
       "        </tr>\n",
       "        <tr>\n",
       "            <td>Gaviiformes         </td> <td>60   </td>\n",
       "        </tr>\n",
       "        <tr>\n",
       "            <td>Gobiesociformes     </td> <td>83   </td>\n",
       "        </tr>\n",
       "        <tr>\n",
       "            <td>Gruiformes          </td> <td>160  </td>\n",
       "        </tr>\n",
       "        <tr>\n",
       "            <td>Gymnophiona         </td> <td>6    </td>\n",
       "        </tr>\n",
       "        <tr>\n",
       "            <td>Gymnotiformes       </td> <td>91   </td>\n",
       "        </tr>\n",
       "        <tr>\n",
       "            <td>Heterodontiformes   </td> <td>7    </td>\n",
       "        </tr>\n",
       "        <tr>\n",
       "            <td>Hexanchiformes      </td> <td>20   </td>\n",
       "        </tr>\n",
       "        <tr>\n",
       "            <td>Lagomorpha          </td> <td>3    </td>\n",
       "        </tr>\n",
       "        <tr>\n",
       "            <td>Lamniformes         </td> <td>18   </td>\n",
       "        </tr>\n",
       "        <tr>\n",
       "            <td>Lampriformes        </td> <td>14   </td>\n",
       "        </tr>\n",
       "        <tr>\n",
       "            <td>Lepisosteiformes    </td> <td>17   </td>\n",
       "        </tr>\n",
       "        <tr>\n",
       "            <td>Lophiiformes        </td> <td>16   </td>\n",
       "        </tr>\n",
       "        <tr>\n",
       "            <td>Mugiliformes        </td> <td>25   </td>\n",
       "        </tr>\n",
       "        <tr>\n",
       "            <td>Myctophiformes      </td> <td>107  </td>\n",
       "        </tr>\n",
       "        <tr>\n",
       "            <td>Myliobatiformes     </td> <td>63   </td>\n",
       "        </tr>\n",
       "        <tr>\n",
       "            <td>Ophidiiformes       </td> <td>70   </td>\n",
       "        </tr>\n",
       "        <tr>\n",
       "            <td>Osmeriformes        </td> <td>92   </td>\n",
       "        </tr>\n",
       "        <tr>\n",
       "            <td>Osteoglossiformes   </td> <td>5    </td>\n",
       "        </tr>\n",
       "        <tr>\n",
       "            <td>Passeriformes       </td> <td>10624</td>\n",
       "        </tr>\n",
       "        <tr>\n",
       "            <td>Pelecaniformes      </td> <td>333  </td>\n",
       "        </tr>\n",
       "        <tr>\n",
       "            <td>Perciformes         </td> <td>3253 </td>\n",
       "        </tr>\n",
       "        <tr>\n",
       "            <td>Percopsiformes      </td> <td>9    </td>\n",
       "        </tr>\n",
       "        <tr>\n",
       "            <td>Petromyzontiformes  </td> <td>13   </td>\n",
       "        </tr>\n",
       "        <tr>\n",
       "            <td>Phaethontiformes    </td> <td>3    </td>\n",
       "        </tr>\n",
       "        <tr>\n",
       "            <td>Piciformes          </td> <td>588  </td>\n",
       "        </tr>\n",
       "        <tr>\n",
       "            <td>Pleuronectiformes   </td> <td>565  </td>\n",
       "        </tr>\n",
       "        <tr>\n",
       "            <td>Podicipediformes    </td> <td>130  </td>\n",
       "        </tr>\n",
       "        <tr>\n",
       "            <td>Proboscidea         </td> <td>66   </td>\n",
       "        </tr>\n",
       "        <tr>\n",
       "            <td>Procellariiformes   </td> <td>229  </td>\n",
       "        </tr>\n",
       "        <tr>\n",
       "            <td>Psittaciformes      </td> <td>21   </td>\n",
       "        </tr>\n",
       "        <tr>\n",
       "            <td>Rajiformes          </td> <td>49   </td>\n",
       "        </tr>\n",
       "        <tr>\n",
       "            <td>Rodentia            </td> <td>32   </td>\n",
       "        </tr>\n",
       "        <tr>\n",
       "            <td>Saccopharyngiformes </td> <td>1    </td>\n",
       "        </tr>\n",
       "        <tr>\n",
       "            <td>Salmoniformes       </td> <td>54   </td>\n",
       "        </tr>\n",
       "        <tr>\n",
       "            <td>Scorpaeniformes     </td> <td>1504 </td>\n",
       "        </tr>\n",
       "        <tr>\n",
       "            <td>Siluriformes        </td> <td>420  </td>\n",
       "        </tr>\n",
       "        <tr>\n",
       "            <td>Soricomorpha        </td> <td>58   </td>\n",
       "        </tr>\n",
       "        <tr>\n",
       "            <td>Squaliformes        </td> <td>32   </td>\n",
       "        </tr>\n",
       "        <tr>\n",
       "            <td>Squamata            </td> <td>9630 </td>\n",
       "        </tr>\n",
       "        <tr>\n",
       "            <td>Squatiniformes      </td> <td>3    </td>\n",
       "        </tr>\n",
       "        <tr>\n",
       "            <td>Stephanoberyciformes</td> <td>11   </td>\n",
       "        </tr>\n",
       "        <tr>\n",
       "            <td>Stomiiformes        </td> <td>109  </td>\n",
       "        </tr>\n",
       "        <tr>\n",
       "            <td>Strigiformes        </td> <td>443  </td>\n",
       "        </tr>\n",
       "        <tr>\n",
       "            <td>Suliformes          </td> <td>83   </td>\n",
       "        </tr>\n",
       "        <tr>\n",
       "            <td>Synbranchiformes    </td> <td>10   </td>\n",
       "        </tr>\n",
       "        <tr>\n",
       "            <td>Syngnathiformes     </td> <td>9    </td>\n",
       "        </tr>\n",
       "        <tr>\n",
       "            <td>Testudines          </td> <td>108  </td>\n",
       "        </tr>\n",
       "        <tr>\n",
       "            <td>Tetraodontiformes   </td> <td>131  </td>\n",
       "        </tr>\n",
       "        <tr>\n",
       "            <td>Torpediniformes     </td> <td>5    </td>\n",
       "        </tr>\n",
       "        <tr>\n",
       "            <td>Zeiformes           </td> <td>3    </td>\n",
       "        </tr>\n",
       "    </tbody>\n",
       "</table>"
      ],
      "text/plain": [
       "<IPython.core.display.HTML object>"
      ]
     },
     "metadata": {},
     "output_type": "display_data"
    }
   ],
   "source": [
    "Vertebrates.group(\"order\").show()"
   ]
  },
  {
   "cell_type": "markdown",
   "metadata": {},
   "source": [
    "After testing a few it seems the order data is correct"
   ]
  },
  {
   "cell_type": "markdown",
   "metadata": {},
   "source": [
    "Since the data comes form multiple sources, it is likely that the collection standards are not the same which is why there are sometimes mismatches"
   ]
  },
  {
   "cell_type": "code",
   "execution_count": null,
   "metadata": {},
   "outputs": [],
   "source": []
  }
 ],
 "metadata": {
  "kernelspec": {
   "display_name": "Python 3",
   "language": "python",
   "name": "python3"
  },
  "language_info": {
   "codemirror_mode": {
    "name": "ipython",
    "version": 3
   },
   "file_extension": ".py",
   "mimetype": "text/x-python",
   "name": "python",
   "nbconvert_exporter": "python",
   "pygments_lexer": "ipython3",
   "version": "3.6.5"
  }
 },
 "nbformat": 4,
 "nbformat_minor": 2
}
