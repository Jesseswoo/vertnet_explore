{
 "cells": [
  {
   "cell_type": "code",
   "execution_count": 1,
   "metadata": {},
   "outputs": [
    {
     "data": {
      "text/html": [
       "\n",
       "        <iframe\n",
       "            width=\"900\"\n",
       "            height=\"800\"\n",
       "            src=\"//plot.ly/~jessesw/142.embed?frameborder=0&scrolling=no\"\n",
       "            frameborder=\"0\"\n",
       "            allowfullscreen\n",
       "        ></iframe>\n",
       "        "
      ],
      "text/plain": [
       "<IPython.lib.display.IFrame at 0x7fda6c1eaa20>"
      ]
     },
     "execution_count": 1,
     "metadata": {},
     "output_type": "execute_result"
    }
   ],
   "source": [
    "from IPython.display import IFrame\n",
    "IFrame(\"//plot.ly/~jessesw/142.embed\", width=\"900\", height=\"800\", frameborder=\"0\", scrolling=\"no\")"
   ]
  },
  {
   "cell_type": "code",
   "execution_count": 2,
   "metadata": {},
   "outputs": [
    {
     "data": {
      "text/html": [
       "\n",
       "<div>\n",
       "    <a href=\"https://plot.ly/~jessesw/142/?share_key=VxAZOngClmP4xkoo6QJEcS\" target=\"_blank\" title=\"plot from API (6)\" style=\"display: block; text-align: center;\"><img src=\"https://plot.ly/~jessesw/142.png?share_key=VxAZOngClmP4xkoo6QJEcS\" alt=\"plot from API (6)\" style=\"max-width: 100%;width: 600px;\"  width=\"600\" onerror=\"this.onerror=null;this.src='https://plot.ly/404.png';\" /></a>\n",
       "    <script data-plotly=\"jessesw:142\" sharekey-plotly=\"VxAZOngClmP4xkoo6QJEcS\" src=\"https://plot.ly/embed.js\" async></script>\n",
       "</div>"
      ],
      "text/plain": [
       "<IPython.core.display.HTML object>"
      ]
     },
     "execution_count": 2,
     "metadata": {},
     "output_type": "execute_result"
    }
   ],
   "source": [
    "from IPython.core.display import display, HTML\n",
    "plotly_1='''\n",
    "<div>\n",
    "    <a href=\"https://plot.ly/~jessesw/142/?share_key=VxAZOngClmP4xkoo6QJEcS\" target=\"_blank\" title=\"plot from API (6)\" style=\"display: block; text-align: center;\"><img src=\"https://plot.ly/~jessesw/142.png?share_key=VxAZOngClmP4xkoo6QJEcS\" alt=\"plot from API (6)\" style=\"max-width: 100%;width: 600px;\"  width=\"600\" onerror=\"this.onerror=null;this.src='https://plot.ly/404.png';\" /></a>\n",
    "    <script data-plotly=\"jessesw:142\" sharekey-plotly=\"VxAZOngClmP4xkoo6QJEcS\" src=\"https://plot.ly/embed.js\" async></script>\n",
    "</div>'''\n",
    "\n",
    "HTML(plotly_1)"
   ]
  },
  {
   "cell_type": "code",
   "execution_count": null,
   "metadata": {},
   "outputs": [],
   "source": []
  }
 ],
 "metadata": {
  "kernelspec": {
   "display_name": "Python 3",
   "language": "python",
   "name": "python3"
  },
  "language_info": {
   "codemirror_mode": {
    "name": "ipython",
    "version": 3
   },
   "file_extension": ".py",
   "mimetype": "text/x-python",
   "name": "python",
   "nbconvert_exporter": "python",
   "pygments_lexer": "ipython3",
   "version": "3.6.5"
  }
 },
 "nbformat": 4,
 "nbformat_minor": 2
}
